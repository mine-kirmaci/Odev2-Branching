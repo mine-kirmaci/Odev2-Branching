{
 "cells": [
  {
   "cell_type": "code",
   "execution_count": null,
   "metadata": {},
   "outputs": [],
   "source": [
    "import numpy as np \n"
   ]
  },
  {
   "cell_type": "code",
   "execution_count": null,
   "metadata": {},
   "outputs": [],
   "source": [
    "\n",
    "#1-(10,15,30,45,60) degerlerine sahip numpy dizisi oluşturunuz\n",
    "result=np.array([10,15,30,45,60])"
   ]
  },
  {
   "cell_type": "code",
   "execution_count": null,
   "metadata": {},
   "outputs": [
    {
     "data": {
      "text/plain": [
       "[ 5  6  7  8  9 10 11 12 13 14]\n"
      ]
     },
     "metadata": {},
     "output_type": "display_data"
    }
   ],
   "source": [
    "#2- 5 ve 15 arasındaki sayılarla numpy dizisi oluşturunuz\n",
    "\n",
    "result=np.arange(5,15,1)\n",
    "print(result)\n"
   ]
  },
  {
   "cell_type": "code",
   "execution_count": null,
   "metadata": {},
   "outputs": [
    {
     "data": {
      "text/plain": [
       "[50 55 60 65 70 75 80 85 90 95]\n"
      ]
     },
     "metadata": {},
     "output_type": "display_data"
    }
   ],
   "source": [
    "#3-(50-100) arasında 5 er 5 er artarak numpy dizisi oluşturunuz\n",
    "result=np.arange(50,100,5)\n",
    "print(result)"
   ]
  },
  {
   "cell_type": "code",
   "execution_count": null,
   "metadata": {},
   "outputs": [],
   "source": [
    "#10 elemanlı birlerden oluşan bir dizi oluşturunuz \n",
    "result=np.array([])\n",
    "for i in range(10):\n",
    "    result=np.append(result,1)\n",
    " #VEYA \n",
    "sonuc=np.ones(10)\n",
    "\n",
    "#0 lardan oluşan olsaydı \n",
    "sonuc=np.zeros(10)"
   ]
  },
  {
   "cell_type": "code",
   "execution_count": null,
   "metadata": {},
   "outputs": [],
   "source": [
    "#0 ile 100 arasında eşit aralıklı 5 sayı üretin\n",
    "result=np.linspace(0,100,5)\n",
    "\n",
    "'''\n",
    "arrange kullanmadık çünkü arrange tam olarak sayıları bölmüyor\n",
    "(0,100) dediğimizde sayıları 99 da bırakıyor \n",
    "'''"
   ]
  },
  {
   "cell_type": "markdown",
   "metadata": {},
   "source": [
    "rand 0 ile 1 arasında bir sayı üretir "
   ]
  },
  {
   "cell_type": "code",
   "execution_count": null,
   "metadata": {},
   "outputs": [
    {
     "data": {
      "text/plain": [
       "[20 11 15 22 15]\n"
      ]
     },
     "metadata": {},
     "output_type": "display_data"
    }
   ],
   "source": [
    "result=np.random.randint(10,30,5)\n",
    "print(result)\n"
   ]
  },
  {
   "cell_type": "markdown",
   "metadata": {},
   "source": [
    "randn-> -1 iile 1 arasında sayı üretir"
   ]
  },
  {
   "cell_type": "code",
   "execution_count": null,
   "metadata": {},
   "outputs": [
    {
     "data": {
      "text/plain": [
       "[ 0.17236934 -1.41655343  0.89019582  0.60156075 -0.96931161  0.30657473\n",
       "  0.60537761 -0.45947411  0.15358552  0.22126229]\n"
      ]
     },
     "metadata": {},
     "output_type": "display_data"
    }
   ],
   "source": [
    "result=np.random.randn(10)\n",
    "print(result)\n"
   ]
  },
  {
   "cell_type": "code",
   "execution_count": null,
   "metadata": {},
   "outputs": [
    {
     "data": {
      "text/plain": [
       "[[32 29 36 48 14]\n",
       " [35 37 27 49 49]\n",
       " [12 43 24 40 25]]\n"
      ]
     },
     "metadata": {},
     "output_type": "display_data"
    }
   ],
   "source": [
    "#3x5 boyutlarında (10-50 arasında rastgele bir matris oluşturunuz)\n",
    "result=np.random.randint(10,50,15).reshape(3,5)\n",
    "print(result)"
   ]
  },
  {
   "cell_type": "code",
   "execution_count": null,
   "metadata": {},
   "outputs": [
    {
     "data": {
      "text/plain": [
       "[153 182 109]\n",
       "[ 88  73  79  99 105]\n"
      ]
     },
     "metadata": {},
     "output_type": "display_data"
    }
   ],
   "source": [
    "#üretilen matrisin satır ve sütun sayılarını bul\n",
    "matris=np.random.randint(10,50,15).reshape(3,5)\n",
    "rowTotal=matris.sum(axis=1)\n",
    "colTotal=matris.sum(axis=0)\n",
    "print(rowTotal)\n",
    "print(colTotal)\n"
   ]
  },
  {
   "cell_type": "code",
   "execution_count": null,
   "metadata": {},
   "outputs": [
    {
     "data": {
      "text/plain": [
       "[[19 24 29 25 37]\n",
       " [30 16 29 26 44]\n",
       " [49 31 19 31 30]]\n",
       "16\n",
       "49\n",
       "29.266666666666666\n",
       "10\n",
       "[19 24 29 25 37]\n"
      ]
     },
     "metadata": {},
     "output_type": "display_data"
    }
   ],
   "source": [
    "#üretilen matrisin en büyük, en küçük ve ortalaması\n",
    "matris=np.random.randint(10,50,15).reshape(3,5)\n",
    "print(matris)\n",
    "matrisMin=matris.min()\n",
    "print(matrisMin)\n",
    "matrisMax=matris.max()\n",
    "print(matrisMax)\n",
    "matrisOrt=matris.mean()\n",
    "print(matrisOrt)\n",
    "\n",
    "#üretilen metrisin en büyük değerinin indeksi\n",
    "result=matris.argmax()\n",
    "print(result)\n",
    "\n",
    "#ilk satırı seçelim\n",
    "a=matris[0]\n",
    "print(a)\n",
    "\n",
    "\n"
   ]
  },
  {
   "cell_type": "code",
   "execution_count": null,
   "metadata": {},
   "outputs": [
    {
     "data": {
      "text/plain": [
       "[10 11 12 13 14 15 16 17 18 19]\n"
      ]
     },
     "metadata": {},
     "output_type": "display_data"
    }
   ],
   "source": [
    "arr=np.arange(10,20)\n",
    "print(arr)\n",
    "result=arr[:3]"
   ]
  }
 ],
 "metadata": {
  "language_info": {
   "name": "python"
  }
 },
 "nbformat": 4,
 "nbformat_minor": 2
}
