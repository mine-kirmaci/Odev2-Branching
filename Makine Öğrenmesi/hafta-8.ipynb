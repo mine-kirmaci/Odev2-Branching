{
 "cells": [
  {
   "cell_type": "code",
   "execution_count": 1,
   "id": "84e79892-252f-476b-9821-eab838e3e3f8",
   "metadata": {},
   "outputs": [
    {
     "data": {
      "text/html": [
       "<div>\n",
       "<style scoped>\n",
       "    .dataframe tbody tr th:only-of-type {\n",
       "        vertical-align: middle;\n",
       "    }\n",
       "\n",
       "    .dataframe tbody tr th {\n",
       "        vertical-align: top;\n",
       "    }\n",
       "\n",
       "    .dataframe thead th {\n",
       "        text-align: right;\n",
       "    }\n",
       "</style>\n",
       "<table border=\"1\" class=\"dataframe\">\n",
       "  <thead>\n",
       "    <tr style=\"text-align: right;\">\n",
       "      <th></th>\n",
       "      <th>total_cup_points</th>\n",
       "      <th>species</th>\n",
       "      <th>owner</th>\n",
       "      <th>country_of_origin</th>\n",
       "      <th>farm_name</th>\n",
       "      <th>lot_number</th>\n",
       "      <th>mill</th>\n",
       "      <th>ico_number</th>\n",
       "      <th>company</th>\n",
       "      <th>altitude</th>\n",
       "      <th>...</th>\n",
       "      <th>color</th>\n",
       "      <th>category_two_defects</th>\n",
       "      <th>expiration</th>\n",
       "      <th>certification_body</th>\n",
       "      <th>certification_address</th>\n",
       "      <th>certification_contact</th>\n",
       "      <th>unit_of_measurement</th>\n",
       "      <th>altitude_low_meters</th>\n",
       "      <th>altitude_high_meters</th>\n",
       "      <th>altitude_mean_meters</th>\n",
       "    </tr>\n",
       "  </thead>\n",
       "  <tbody>\n",
       "    <tr>\n",
       "      <th>0</th>\n",
       "      <td>90.58</td>\n",
       "      <td>Arabica</td>\n",
       "      <td>metad plc</td>\n",
       "      <td>Ethiopia</td>\n",
       "      <td>metad plc</td>\n",
       "      <td>None</td>\n",
       "      <td>metad plc</td>\n",
       "      <td>2014/2015</td>\n",
       "      <td>metad agricultural developmet plc</td>\n",
       "      <td>1950-2200</td>\n",
       "      <td>...</td>\n",
       "      <td>Green</td>\n",
       "      <td>0.0</td>\n",
       "      <td>April 3rd, 2016</td>\n",
       "      <td>METAD Agricultural Development plc</td>\n",
       "      <td>309fcf77415a3661ae83e027f7e5f05dad786e44</td>\n",
       "      <td>19fef5a731de2db57d16da10287413f5f99bc2dd</td>\n",
       "      <td>m</td>\n",
       "      <td>1950.0</td>\n",
       "      <td>2200.0</td>\n",
       "      <td>2075.0</td>\n",
       "    </tr>\n",
       "    <tr>\n",
       "      <th>1</th>\n",
       "      <td>89.92</td>\n",
       "      <td>Arabica</td>\n",
       "      <td>metad plc</td>\n",
       "      <td>Ethiopia</td>\n",
       "      <td>metad plc</td>\n",
       "      <td>None</td>\n",
       "      <td>metad plc</td>\n",
       "      <td>2014/2015</td>\n",
       "      <td>metad agricultural developmet plc</td>\n",
       "      <td>1950-2200</td>\n",
       "      <td>...</td>\n",
       "      <td>Green</td>\n",
       "      <td>1.0</td>\n",
       "      <td>April 3rd, 2016</td>\n",
       "      <td>METAD Agricultural Development plc</td>\n",
       "      <td>309fcf77415a3661ae83e027f7e5f05dad786e44</td>\n",
       "      <td>19fef5a731de2db57d16da10287413f5f99bc2dd</td>\n",
       "      <td>m</td>\n",
       "      <td>1950.0</td>\n",
       "      <td>2200.0</td>\n",
       "      <td>2075.0</td>\n",
       "    </tr>\n",
       "    <tr>\n",
       "      <th>2</th>\n",
       "      <td>89.75</td>\n",
       "      <td>Arabica</td>\n",
       "      <td>grounds for health admin</td>\n",
       "      <td>Guatemala</td>\n",
       "      <td>san marcos barrancas \"san cristobal cuch</td>\n",
       "      <td>None</td>\n",
       "      <td>None</td>\n",
       "      <td>None</td>\n",
       "      <td>None</td>\n",
       "      <td>1600 - 1800 m</td>\n",
       "      <td>...</td>\n",
       "      <td>None</td>\n",
       "      <td>0.0</td>\n",
       "      <td>May 31st, 2011</td>\n",
       "      <td>Specialty Coffee Association</td>\n",
       "      <td>36d0d00a3724338ba7937c52a378d085f2172daa</td>\n",
       "      <td>0878a7d4b9d35ddbf0fe2ce69a2062cceb45a660</td>\n",
       "      <td>m</td>\n",
       "      <td>1600.0</td>\n",
       "      <td>1800.0</td>\n",
       "      <td>1700.0</td>\n",
       "    </tr>\n",
       "    <tr>\n",
       "      <th>3</th>\n",
       "      <td>89.00</td>\n",
       "      <td>Arabica</td>\n",
       "      <td>yidnekachew dabessa</td>\n",
       "      <td>Ethiopia</td>\n",
       "      <td>yidnekachew dabessa coffee plantation</td>\n",
       "      <td>None</td>\n",
       "      <td>wolensu</td>\n",
       "      <td>None</td>\n",
       "      <td>yidnekachew debessa coffee plantation</td>\n",
       "      <td>1800-2200</td>\n",
       "      <td>...</td>\n",
       "      <td>Green</td>\n",
       "      <td>2.0</td>\n",
       "      <td>March 25th, 2016</td>\n",
       "      <td>METAD Agricultural Development plc</td>\n",
       "      <td>309fcf77415a3661ae83e027f7e5f05dad786e44</td>\n",
       "      <td>19fef5a731de2db57d16da10287413f5f99bc2dd</td>\n",
       "      <td>m</td>\n",
       "      <td>1800.0</td>\n",
       "      <td>2200.0</td>\n",
       "      <td>2000.0</td>\n",
       "    </tr>\n",
       "    <tr>\n",
       "      <th>4</th>\n",
       "      <td>88.83</td>\n",
       "      <td>Arabica</td>\n",
       "      <td>metad plc</td>\n",
       "      <td>Ethiopia</td>\n",
       "      <td>metad plc</td>\n",
       "      <td>None</td>\n",
       "      <td>metad plc</td>\n",
       "      <td>2014/2015</td>\n",
       "      <td>metad agricultural developmet plc</td>\n",
       "      <td>1950-2200</td>\n",
       "      <td>...</td>\n",
       "      <td>Green</td>\n",
       "      <td>2.0</td>\n",
       "      <td>April 3rd, 2016</td>\n",
       "      <td>METAD Agricultural Development plc</td>\n",
       "      <td>309fcf77415a3661ae83e027f7e5f05dad786e44</td>\n",
       "      <td>19fef5a731de2db57d16da10287413f5f99bc2dd</td>\n",
       "      <td>m</td>\n",
       "      <td>1950.0</td>\n",
       "      <td>2200.0</td>\n",
       "      <td>2075.0</td>\n",
       "    </tr>\n",
       "    <tr>\n",
       "      <th>...</th>\n",
       "      <td>...</td>\n",
       "      <td>...</td>\n",
       "      <td>...</td>\n",
       "      <td>...</td>\n",
       "      <td>...</td>\n",
       "      <td>...</td>\n",
       "      <td>...</td>\n",
       "      <td>...</td>\n",
       "      <td>...</td>\n",
       "      <td>...</td>\n",
       "      <td>...</td>\n",
       "      <td>...</td>\n",
       "      <td>...</td>\n",
       "      <td>...</td>\n",
       "      <td>...</td>\n",
       "      <td>...</td>\n",
       "      <td>...</td>\n",
       "      <td>...</td>\n",
       "      <td>...</td>\n",
       "      <td>...</td>\n",
       "      <td>...</td>\n",
       "    </tr>\n",
       "    <tr>\n",
       "      <th>1333</th>\n",
       "      <td>78.75</td>\n",
       "      <td>Robusta</td>\n",
       "      <td>luis robles</td>\n",
       "      <td>Ecuador</td>\n",
       "      <td>robustasa</td>\n",
       "      <td>Lavado 1</td>\n",
       "      <td>our own lab</td>\n",
       "      <td>None</td>\n",
       "      <td>robustasa</td>\n",
       "      <td>None</td>\n",
       "      <td>...</td>\n",
       "      <td>Blue-Green</td>\n",
       "      <td>1.0</td>\n",
       "      <td>January 18th, 2017</td>\n",
       "      <td>Specialty Coffee Association</td>\n",
       "      <td>ff7c18ad303d4b603ac3f8cff7e611ffc735e720</td>\n",
       "      <td>352d0cf7f3e9be14dad7df644ad65efc27605ae2</td>\n",
       "      <td>m</td>\n",
       "      <td>NaN</td>\n",
       "      <td>NaN</td>\n",
       "      <td>NaN</td>\n",
       "    </tr>\n",
       "    <tr>\n",
       "      <th>1334</th>\n",
       "      <td>78.08</td>\n",
       "      <td>Robusta</td>\n",
       "      <td>luis robles</td>\n",
       "      <td>Ecuador</td>\n",
       "      <td>robustasa</td>\n",
       "      <td>Lavado 3</td>\n",
       "      <td>own laboratory</td>\n",
       "      <td>None</td>\n",
       "      <td>robustasa</td>\n",
       "      <td>40</td>\n",
       "      <td>...</td>\n",
       "      <td>Blue-Green</td>\n",
       "      <td>0.0</td>\n",
       "      <td>January 18th, 2017</td>\n",
       "      <td>Specialty Coffee Association</td>\n",
       "      <td>ff7c18ad303d4b603ac3f8cff7e611ffc735e720</td>\n",
       "      <td>352d0cf7f3e9be14dad7df644ad65efc27605ae2</td>\n",
       "      <td>m</td>\n",
       "      <td>40.0</td>\n",
       "      <td>40.0</td>\n",
       "      <td>40.0</td>\n",
       "    </tr>\n",
       "    <tr>\n",
       "      <th>1335</th>\n",
       "      <td>77.17</td>\n",
       "      <td>Robusta</td>\n",
       "      <td>james moore</td>\n",
       "      <td>United States</td>\n",
       "      <td>fazenda cazengo</td>\n",
       "      <td>None</td>\n",
       "      <td>cafe cazengo</td>\n",
       "      <td>None</td>\n",
       "      <td>global opportunity fund</td>\n",
       "      <td>795 meters</td>\n",
       "      <td>...</td>\n",
       "      <td>None</td>\n",
       "      <td>6.0</td>\n",
       "      <td>December 23rd, 2015</td>\n",
       "      <td>Specialty Coffee Association</td>\n",
       "      <td>ff7c18ad303d4b603ac3f8cff7e611ffc735e720</td>\n",
       "      <td>352d0cf7f3e9be14dad7df644ad65efc27605ae2</td>\n",
       "      <td>m</td>\n",
       "      <td>795.0</td>\n",
       "      <td>795.0</td>\n",
       "      <td>795.0</td>\n",
       "    </tr>\n",
       "    <tr>\n",
       "      <th>1336</th>\n",
       "      <td>75.08</td>\n",
       "      <td>Robusta</td>\n",
       "      <td>cafe politico</td>\n",
       "      <td>India</td>\n",
       "      <td>None</td>\n",
       "      <td>None</td>\n",
       "      <td>None</td>\n",
       "      <td>14-1118-2014-0087</td>\n",
       "      <td>cafe politico</td>\n",
       "      <td>None</td>\n",
       "      <td>...</td>\n",
       "      <td>Green</td>\n",
       "      <td>1.0</td>\n",
       "      <td>August 25th, 2015</td>\n",
       "      <td>Specialty Coffee Association</td>\n",
       "      <td>ff7c18ad303d4b603ac3f8cff7e611ffc735e720</td>\n",
       "      <td>352d0cf7f3e9be14dad7df644ad65efc27605ae2</td>\n",
       "      <td>m</td>\n",
       "      <td>NaN</td>\n",
       "      <td>NaN</td>\n",
       "      <td>NaN</td>\n",
       "    </tr>\n",
       "    <tr>\n",
       "      <th>1337</th>\n",
       "      <td>73.75</td>\n",
       "      <td>Robusta</td>\n",
       "      <td>cafe politico</td>\n",
       "      <td>Vietnam</td>\n",
       "      <td>None</td>\n",
       "      <td>None</td>\n",
       "      <td>None</td>\n",
       "      <td>n/a</td>\n",
       "      <td>cafe politico</td>\n",
       "      <td>None</td>\n",
       "      <td>...</td>\n",
       "      <td>None</td>\n",
       "      <td>9.0</td>\n",
       "      <td>August 25th, 2015</td>\n",
       "      <td>Specialty Coffee Association</td>\n",
       "      <td>ff7c18ad303d4b603ac3f8cff7e611ffc735e720</td>\n",
       "      <td>352d0cf7f3e9be14dad7df644ad65efc27605ae2</td>\n",
       "      <td>m</td>\n",
       "      <td>NaN</td>\n",
       "      <td>NaN</td>\n",
       "      <td>NaN</td>\n",
       "    </tr>\n",
       "  </tbody>\n",
       "</table>\n",
       "<p>1338 rows × 43 columns</p>\n",
       "</div>"
      ],
      "text/plain": [
       "      total_cup_points  species                     owner country_of_origin  \\\n",
       "0                90.58  Arabica                 metad plc          Ethiopia   \n",
       "1                89.92  Arabica                 metad plc          Ethiopia   \n",
       "2                89.75  Arabica  grounds for health admin         Guatemala   \n",
       "3                89.00  Arabica       yidnekachew dabessa          Ethiopia   \n",
       "4                88.83  Arabica                 metad plc          Ethiopia   \n",
       "...                ...      ...                       ...               ...   \n",
       "1333             78.75  Robusta               luis robles           Ecuador   \n",
       "1334             78.08  Robusta               luis robles           Ecuador   \n",
       "1335             77.17  Robusta               james moore     United States   \n",
       "1336             75.08  Robusta             cafe politico             India   \n",
       "1337             73.75  Robusta             cafe politico           Vietnam   \n",
       "\n",
       "                                     farm_name lot_number            mill  \\\n",
       "0                                    metad plc       None       metad plc   \n",
       "1                                    metad plc       None       metad plc   \n",
       "2     san marcos barrancas \"san cristobal cuch       None            None   \n",
       "3        yidnekachew dabessa coffee plantation       None         wolensu   \n",
       "4                                    metad plc       None       metad plc   \n",
       "...                                        ...        ...             ...   \n",
       "1333                                 robustasa   Lavado 1     our own lab   \n",
       "1334                                 robustasa   Lavado 3  own laboratory   \n",
       "1335                           fazenda cazengo       None    cafe cazengo   \n",
       "1336                                      None       None            None   \n",
       "1337                                      None       None            None   \n",
       "\n",
       "             ico_number                                company       altitude  \\\n",
       "0             2014/2015      metad agricultural developmet plc      1950-2200   \n",
       "1             2014/2015      metad agricultural developmet plc      1950-2200   \n",
       "2                  None                                   None  1600 - 1800 m   \n",
       "3                  None  yidnekachew debessa coffee plantation      1800-2200   \n",
       "4             2014/2015      metad agricultural developmet plc      1950-2200   \n",
       "...                 ...                                    ...            ...   \n",
       "1333               None                              robustasa           None   \n",
       "1334               None                              robustasa             40   \n",
       "1335               None                global opportunity fund     795 meters   \n",
       "1336  14-1118-2014-0087                          cafe politico           None   \n",
       "1337                n/a                          cafe politico           None   \n",
       "\n",
       "      ...       color category_two_defects           expiration  \\\n",
       "0     ...       Green                  0.0      April 3rd, 2016   \n",
       "1     ...       Green                  1.0      April 3rd, 2016   \n",
       "2     ...        None                  0.0       May 31st, 2011   \n",
       "3     ...       Green                  2.0     March 25th, 2016   \n",
       "4     ...       Green                  2.0      April 3rd, 2016   \n",
       "...   ...         ...                  ...                  ...   \n",
       "1333  ...  Blue-Green                  1.0   January 18th, 2017   \n",
       "1334  ...  Blue-Green                  0.0   January 18th, 2017   \n",
       "1335  ...        None                  6.0  December 23rd, 2015   \n",
       "1336  ...       Green                  1.0    August 25th, 2015   \n",
       "1337  ...        None                  9.0    August 25th, 2015   \n",
       "\n",
       "                      certification_body  \\\n",
       "0     METAD Agricultural Development plc   \n",
       "1     METAD Agricultural Development plc   \n",
       "2           Specialty Coffee Association   \n",
       "3     METAD Agricultural Development plc   \n",
       "4     METAD Agricultural Development plc   \n",
       "...                                  ...   \n",
       "1333        Specialty Coffee Association   \n",
       "1334        Specialty Coffee Association   \n",
       "1335        Specialty Coffee Association   \n",
       "1336        Specialty Coffee Association   \n",
       "1337        Specialty Coffee Association   \n",
       "\n",
       "                         certification_address  \\\n",
       "0     309fcf77415a3661ae83e027f7e5f05dad786e44   \n",
       "1     309fcf77415a3661ae83e027f7e5f05dad786e44   \n",
       "2     36d0d00a3724338ba7937c52a378d085f2172daa   \n",
       "3     309fcf77415a3661ae83e027f7e5f05dad786e44   \n",
       "4     309fcf77415a3661ae83e027f7e5f05dad786e44   \n",
       "...                                        ...   \n",
       "1333  ff7c18ad303d4b603ac3f8cff7e611ffc735e720   \n",
       "1334  ff7c18ad303d4b603ac3f8cff7e611ffc735e720   \n",
       "1335  ff7c18ad303d4b603ac3f8cff7e611ffc735e720   \n",
       "1336  ff7c18ad303d4b603ac3f8cff7e611ffc735e720   \n",
       "1337  ff7c18ad303d4b603ac3f8cff7e611ffc735e720   \n",
       "\n",
       "                         certification_contact unit_of_measurement  \\\n",
       "0     19fef5a731de2db57d16da10287413f5f99bc2dd                   m   \n",
       "1     19fef5a731de2db57d16da10287413f5f99bc2dd                   m   \n",
       "2     0878a7d4b9d35ddbf0fe2ce69a2062cceb45a660                   m   \n",
       "3     19fef5a731de2db57d16da10287413f5f99bc2dd                   m   \n",
       "4     19fef5a731de2db57d16da10287413f5f99bc2dd                   m   \n",
       "...                                        ...                 ...   \n",
       "1333  352d0cf7f3e9be14dad7df644ad65efc27605ae2                   m   \n",
       "1334  352d0cf7f3e9be14dad7df644ad65efc27605ae2                   m   \n",
       "1335  352d0cf7f3e9be14dad7df644ad65efc27605ae2                   m   \n",
       "1336  352d0cf7f3e9be14dad7df644ad65efc27605ae2                   m   \n",
       "1337  352d0cf7f3e9be14dad7df644ad65efc27605ae2                   m   \n",
       "\n",
       "     altitude_low_meters altitude_high_meters altitude_mean_meters  \n",
       "0                 1950.0               2200.0               2075.0  \n",
       "1                 1950.0               2200.0               2075.0  \n",
       "2                 1600.0               1800.0               1700.0  \n",
       "3                 1800.0               2200.0               2000.0  \n",
       "4                 1950.0               2200.0               2075.0  \n",
       "...                  ...                  ...                  ...  \n",
       "1333                 NaN                  NaN                  NaN  \n",
       "1334                40.0                 40.0                 40.0  \n",
       "1335               795.0                795.0                795.0  \n",
       "1336                 NaN                  NaN                  NaN  \n",
       "1337                 NaN                  NaN                  NaN  \n",
       "\n",
       "[1338 rows x 43 columns]"
      ]
     },
     "execution_count": 1,
     "metadata": {},
     "output_type": "execute_result"
    }
   ],
   "source": [
    "import pandas as pd\n",
    "\n",
    "df_coffee= pd.read_feather(\"data/coffee_ratings_full.feather\")\n",
    "df_coffee"
   ]
  },
  {
   "cell_type": "code",
   "execution_count": 2,
   "id": "6e8a4250-d449-40cb-b184-6db3c9599b79",
   "metadata": {},
   "outputs": [
    {
     "data": {
      "text/html": [
       "<div>\n",
       "<style scoped>\n",
       "    .dataframe tbody tr th:only-of-type {\n",
       "        vertical-align: middle;\n",
       "    }\n",
       "\n",
       "    .dataframe tbody tr th {\n",
       "        vertical-align: top;\n",
       "    }\n",
       "\n",
       "    .dataframe thead th {\n",
       "        text-align: right;\n",
       "    }\n",
       "</style>\n",
       "<table border=\"1\" class=\"dataframe\">\n",
       "  <thead>\n",
       "    <tr style=\"text-align: right;\">\n",
       "      <th></th>\n",
       "      <th>index</th>\n",
       "      <th>variety</th>\n",
       "      <th>country_of_origin</th>\n",
       "      <th>flavor</th>\n",
       "    </tr>\n",
       "  </thead>\n",
       "  <tbody>\n",
       "    <tr>\n",
       "      <th>0</th>\n",
       "      <td>0</td>\n",
       "      <td>None</td>\n",
       "      <td>Ethiopia</td>\n",
       "      <td>8.83</td>\n",
       "    </tr>\n",
       "    <tr>\n",
       "      <th>1</th>\n",
       "      <td>1</td>\n",
       "      <td>Other</td>\n",
       "      <td>Ethiopia</td>\n",
       "      <td>8.67</td>\n",
       "    </tr>\n",
       "    <tr>\n",
       "      <th>2</th>\n",
       "      <td>2</td>\n",
       "      <td>Bourbon</td>\n",
       "      <td>Guatemala</td>\n",
       "      <td>8.50</td>\n",
       "    </tr>\n",
       "    <tr>\n",
       "      <th>3</th>\n",
       "      <td>3</td>\n",
       "      <td>None</td>\n",
       "      <td>Ethiopia</td>\n",
       "      <td>8.58</td>\n",
       "    </tr>\n",
       "    <tr>\n",
       "      <th>4</th>\n",
       "      <td>4</td>\n",
       "      <td>Other</td>\n",
       "      <td>Ethiopia</td>\n",
       "      <td>8.50</td>\n",
       "    </tr>\n",
       "    <tr>\n",
       "      <th>...</th>\n",
       "      <td>...</td>\n",
       "      <td>...</td>\n",
       "      <td>...</td>\n",
       "      <td>...</td>\n",
       "    </tr>\n",
       "    <tr>\n",
       "      <th>1333</th>\n",
       "      <td>1333</td>\n",
       "      <td>None</td>\n",
       "      <td>Ecuador</td>\n",
       "      <td>7.58</td>\n",
       "    </tr>\n",
       "    <tr>\n",
       "      <th>1334</th>\n",
       "      <td>1334</td>\n",
       "      <td>None</td>\n",
       "      <td>Ecuador</td>\n",
       "      <td>7.67</td>\n",
       "    </tr>\n",
       "    <tr>\n",
       "      <th>1335</th>\n",
       "      <td>1335</td>\n",
       "      <td>None</td>\n",
       "      <td>United States</td>\n",
       "      <td>7.33</td>\n",
       "    </tr>\n",
       "    <tr>\n",
       "      <th>1336</th>\n",
       "      <td>1336</td>\n",
       "      <td>None</td>\n",
       "      <td>India</td>\n",
       "      <td>6.83</td>\n",
       "    </tr>\n",
       "    <tr>\n",
       "      <th>1337</th>\n",
       "      <td>1337</td>\n",
       "      <td>None</td>\n",
       "      <td>Vietnam</td>\n",
       "      <td>6.67</td>\n",
       "    </tr>\n",
       "  </tbody>\n",
       "</table>\n",
       "<p>1338 rows × 4 columns</p>\n",
       "</div>"
      ],
      "text/plain": [
       "      index  variety country_of_origin  flavor\n",
       "0         0     None          Ethiopia    8.83\n",
       "1         1    Other          Ethiopia    8.67\n",
       "2         2  Bourbon         Guatemala    8.50\n",
       "3         3     None          Ethiopia    8.58\n",
       "4         4    Other          Ethiopia    8.50\n",
       "...     ...      ...               ...     ...\n",
       "1333   1333     None           Ecuador    7.58\n",
       "1334   1334     None           Ecuador    7.67\n",
       "1335   1335     None     United States    7.33\n",
       "1336   1336     None             India    6.83\n",
       "1337   1337     None           Vietnam    6.67\n",
       "\n",
       "[1338 rows x 4 columns]"
      ]
     },
     "execution_count": 2,
     "metadata": {},
     "output_type": "execute_result"
    }
   ],
   "source": [
    "coffee_focus= df_coffee[['variety','country_of_origin','flavor']]\n",
    "coffee_focus =coffee_focus.reset_index()\n",
    "coffee_focus"
   ]
  },
  {
   "cell_type": "code",
   "execution_count": 3,
   "id": "775d2559-7181-43c3-a1ca-cd8aa8646535",
   "metadata": {},
   "outputs": [
    {
     "data": {
      "text/html": [
       "<div>\n",
       "<style scoped>\n",
       "    .dataframe tbody tr th:only-of-type {\n",
       "        vertical-align: middle;\n",
       "    }\n",
       "\n",
       "    .dataframe tbody tr th {\n",
       "        vertical-align: top;\n",
       "    }\n",
       "\n",
       "    .dataframe thead th {\n",
       "        text-align: right;\n",
       "    }\n",
       "</style>\n",
       "<table border=\"1\" class=\"dataframe\">\n",
       "  <thead>\n",
       "    <tr style=\"text-align: right;\">\n",
       "      <th></th>\n",
       "      <th>index</th>\n",
       "      <th>variety</th>\n",
       "      <th>country_of_origin</th>\n",
       "      <th>flavor</th>\n",
       "    </tr>\n",
       "  </thead>\n",
       "  <tbody>\n",
       "    <tr>\n",
       "      <th>1300</th>\n",
       "      <td>1300</td>\n",
       "      <td>Bourbon</td>\n",
       "      <td>Mexico</td>\n",
       "      <td>6.67</td>\n",
       "    </tr>\n",
       "    <tr>\n",
       "      <th>469</th>\n",
       "      <td>469</td>\n",
       "      <td>Caturra</td>\n",
       "      <td>Colombia</td>\n",
       "      <td>7.67</td>\n",
       "    </tr>\n",
       "    <tr>\n",
       "      <th>1078</th>\n",
       "      <td>1078</td>\n",
       "      <td>Typica</td>\n",
       "      <td>Mexico</td>\n",
       "      <td>7.25</td>\n",
       "    </tr>\n",
       "    <tr>\n",
       "      <th>851</th>\n",
       "      <td>851</td>\n",
       "      <td>Hawaiian Kona</td>\n",
       "      <td>United States (Hawaii)</td>\n",
       "      <td>7.83</td>\n",
       "    </tr>\n",
       "    <tr>\n",
       "      <th>561</th>\n",
       "      <td>561</td>\n",
       "      <td>Yellow Bourbon</td>\n",
       "      <td>Brazil</td>\n",
       "      <td>7.58</td>\n",
       "    </tr>\n",
       "    <tr>\n",
       "      <th>...</th>\n",
       "      <td>...</td>\n",
       "      <td>...</td>\n",
       "      <td>...</td>\n",
       "      <td>...</td>\n",
       "    </tr>\n",
       "    <tr>\n",
       "      <th>20</th>\n",
       "      <td>20</td>\n",
       "      <td>Other</td>\n",
       "      <td>United States</td>\n",
       "      <td>8.25</td>\n",
       "    </tr>\n",
       "    <tr>\n",
       "      <th>1220</th>\n",
       "      <td>1220</td>\n",
       "      <td>None</td>\n",
       "      <td>United States (Hawaii)</td>\n",
       "      <td>6.83</td>\n",
       "    </tr>\n",
       "    <tr>\n",
       "      <th>1017</th>\n",
       "      <td>1017</td>\n",
       "      <td>Other</td>\n",
       "      <td>Myanmar</td>\n",
       "      <td>7.42</td>\n",
       "    </tr>\n",
       "    <tr>\n",
       "      <th>441</th>\n",
       "      <td>441</td>\n",
       "      <td>Bourbon</td>\n",
       "      <td>Guatemala</td>\n",
       "      <td>7.58</td>\n",
       "    </tr>\n",
       "    <tr>\n",
       "      <th>877</th>\n",
       "      <td>877</td>\n",
       "      <td>Yellow Bourbon</td>\n",
       "      <td>Brazil</td>\n",
       "      <td>7.75</td>\n",
       "    </tr>\n",
       "  </tbody>\n",
       "</table>\n",
       "<p>1338 rows × 4 columns</p>\n",
       "</div>"
      ],
      "text/plain": [
       "      index         variety       country_of_origin  flavor\n",
       "1300   1300         Bourbon                  Mexico    6.67\n",
       "469     469         Caturra                Colombia    7.67\n",
       "1078   1078          Typica                  Mexico    7.25\n",
       "851     851   Hawaiian Kona  United States (Hawaii)    7.83\n",
       "561     561  Yellow Bourbon                  Brazil    7.58\n",
       "...     ...             ...                     ...     ...\n",
       "20       20           Other           United States    8.25\n",
       "1220   1220            None  United States (Hawaii)    6.83\n",
       "1017   1017           Other                 Myanmar    7.42\n",
       "441     441         Bourbon               Guatemala    7.58\n",
       "877     877  Yellow Bourbon                  Brazil    7.75\n",
       "\n",
       "[1338 rows x 4 columns]"
      ]
     },
     "execution_count": 3,
     "metadata": {},
     "output_type": "execute_result"
    }
   ],
   "source": [
    "coffee_resamp = coffee_focus.sample(frac=1, replace=True)\n",
    "coffee_resamp"
   ]
  },
  {
   "cell_type": "code",
   "execution_count": 4,
   "id": "370ed4c0-d724-4e58-b3fc-6da95c1cd8d7",
   "metadata": {},
   "outputs": [
    {
     "data": {
      "text/plain": [
       "index\n",
       "394     6\n",
       "195     6\n",
       "809     5\n",
       "93      5\n",
       "1294    5\n",
       "       ..\n",
       "1169    1\n",
       "203     1\n",
       "1011    1\n",
       "602     1\n",
       "877     1\n",
       "Name: count, Length: 844, dtype: int64"
      ]
     },
     "execution_count": 4,
     "metadata": {},
     "output_type": "execute_result"
    }
   ],
   "source": [
    "coffee_resamp['index'].value_counts()"
   ]
  },
  {
   "cell_type": "code",
   "execution_count": 5,
   "id": "e1ab3cef-d202-4386-974c-2b381ebf1b6b",
   "metadata": {},
   "outputs": [
    {
     "data": {
      "text/plain": [
       "844"
      ]
     },
     "execution_count": 5,
     "metadata": {},
     "output_type": "execute_result"
    }
   ],
   "source": [
    "num_unique_coffees = len(coffee_resamp.drop_duplicates(subset='index'))\n",
    "num_unique_coffees "
   ]
  },
  {
   "cell_type": "code",
   "execution_count": 10,
   "id": "e13b7be8-69fd-4db9-b5de-5ee868bc2a3e",
   "metadata": {},
   "outputs": [],
   "source": [
    "import numpy as np \n",
    "\n",
    "mean_flavors_1000 = []\n",
    "\n",
    "for i in range(1000):\n",
    "    mean_flavors_1000.append(np.mean(\n",
    "        coffee_focus.sample(frac=1, replace= True)['flavor']))"
   ]
  },
  {
   "cell_type": "code",
   "execution_count": 9,
   "id": "f0d5243a-dac3-4618-b855-f9fe63741f6f",
   "metadata": {},
   "outputs": [
    {
     "data": {
      "text/plain": [
       "(array([  1.,  16.,  59., 125., 204., 238., 184., 111.,  50.,  12.]),\n",
       " array([7.49579223, 7.50138191, 7.5069716 , 7.51256129, 7.51815097,\n",
       "        7.52374066, 7.52933034, 7.53492003, 7.54050972, 7.5460994 ,\n",
       "        7.55168909]),\n",
       " <BarContainer object of 10 artists>)"
      ]
     },
     "execution_count": 9,
     "metadata": {},
     "output_type": "execute_result"
    },
    {
     "data": {
      "image/png": "[encoded data removed]",
      "text/plain": [
       "<Figure size 640x480 with 1 Axes>"
      ]
     },
     "metadata": {},
     "output_type": "display_data"
    }
   ],
   "source": [
    "#Bootstrap distribution histogram\n",
    "#\n",
    "\n",
    "import matplotlib.pyplot as plt \n",
    "plt.hist(mean_flavors_1000)"
   ]
  },
  {
   "cell_type": "code",
   "execution_count": 11,
   "id": "815e77b0-c59b-4f8e-ba10-c0d5c7abc23f",
   "metadata": {},
   "outputs": [
    {
     "data": {
      "text/html": [
       "<div>\n",
       "<style scoped>\n",
       "    .dataframe tbody tr th:only-of-type {\n",
       "        vertical-align: middle;\n",
       "    }\n",
       "\n",
       "    .dataframe tbody tr th {\n",
       "        vertical-align: top;\n",
       "    }\n",
       "\n",
       "    .dataframe thead th {\n",
       "        text-align: right;\n",
       "    }\n",
       "</style>\n",
       "<table border=\"1\" class=\"dataframe\">\n",
       "  <thead>\n",
       "    <tr style=\"text-align: right;\">\n",
       "      <th></th>\n",
       "      <th>index</th>\n",
       "      <th>variety</th>\n",
       "      <th>country_of_origin</th>\n",
       "      <th>flavor</th>\n",
       "    </tr>\n",
       "  </thead>\n",
       "  <tbody>\n",
       "    <tr>\n",
       "      <th>625</th>\n",
       "      <td>625</td>\n",
       "      <td>Other</td>\n",
       "      <td>Thailand</td>\n",
       "      <td>7.33</td>\n",
       "    </tr>\n",
       "    <tr>\n",
       "      <th>1070</th>\n",
       "      <td>1070</td>\n",
       "      <td>Catuai</td>\n",
       "      <td>Honduras</td>\n",
       "      <td>7.33</td>\n",
       "    </tr>\n",
       "    <tr>\n",
       "      <th>53</th>\n",
       "      <td>53</td>\n",
       "      <td>SL14</td>\n",
       "      <td>Uganda</td>\n",
       "      <td>8.17</td>\n",
       "    </tr>\n",
       "    <tr>\n",
       "      <th>580</th>\n",
       "      <td>580</td>\n",
       "      <td>Bourbon</td>\n",
       "      <td>Guatemala</td>\n",
       "      <td>7.67</td>\n",
       "    </tr>\n",
       "    <tr>\n",
       "      <th>1058</th>\n",
       "      <td>1058</td>\n",
       "      <td>Bourbon</td>\n",
       "      <td>Guatemala</td>\n",
       "      <td>7.50</td>\n",
       "    </tr>\n",
       "    <tr>\n",
       "      <th>...</th>\n",
       "      <td>...</td>\n",
       "      <td>...</td>\n",
       "      <td>...</td>\n",
       "      <td>...</td>\n",
       "    </tr>\n",
       "    <tr>\n",
       "      <th>353</th>\n",
       "      <td>353</td>\n",
       "      <td>Caturra</td>\n",
       "      <td>Costa Rica</td>\n",
       "      <td>7.42</td>\n",
       "    </tr>\n",
       "    <tr>\n",
       "      <th>698</th>\n",
       "      <td>698</td>\n",
       "      <td>Caturra</td>\n",
       "      <td>Mexico</td>\n",
       "      <td>7.33</td>\n",
       "    </tr>\n",
       "    <tr>\n",
       "      <th>272</th>\n",
       "      <td>272</td>\n",
       "      <td>Typica</td>\n",
       "      <td>Mexico</td>\n",
       "      <td>7.67</td>\n",
       "    </tr>\n",
       "    <tr>\n",
       "      <th>155</th>\n",
       "      <td>155</td>\n",
       "      <td>Caturra</td>\n",
       "      <td>Colombia</td>\n",
       "      <td>7.67</td>\n",
       "    </tr>\n",
       "    <tr>\n",
       "      <th>279</th>\n",
       "      <td>279</td>\n",
       "      <td>Yellow Bourbon</td>\n",
       "      <td>Brazil</td>\n",
       "      <td>7.58</td>\n",
       "    </tr>\n",
       "  </tbody>\n",
       "</table>\n",
       "<p>500 rows × 4 columns</p>\n",
       "</div>"
      ],
      "text/plain": [
       "      index         variety country_of_origin  flavor\n",
       "625     625           Other          Thailand    7.33\n",
       "1070   1070          Catuai          Honduras    7.33\n",
       "53       53            SL14            Uganda    8.17\n",
       "580     580         Bourbon         Guatemala    7.67\n",
       "1058   1058         Bourbon         Guatemala    7.50\n",
       "...     ...             ...               ...     ...\n",
       "353     353         Caturra        Costa Rica    7.42\n",
       "698     698         Caturra            Mexico    7.33\n",
       "272     272          Typica            Mexico    7.67\n",
       "155     155         Caturra          Colombia    7.67\n",
       "279     279  Yellow Bourbon            Brazil    7.58\n",
       "\n",
       "[500 rows x 4 columns]"
      ]
     },
     "execution_count": 11,
     "metadata": {},
     "output_type": "execute_result"
    }
   ],
   "source": [
    "#kahve veri setinden 500 satırlık bir örnek alalım.\n",
    "coffee_sample = df_coffee[['variety','country_of_origin','flavor']].reset_index().sample(n=500)\n",
    "coffee_sample"
   ]
  },
  {
   "cell_type": "code",
   "execution_count": 12,
   "id": "7658783b-e33b-410a-9478-42fe09399068",
   "metadata": {},
   "outputs": [],
   "source": [
    "import numpy as np \n",
    "\n",
    "mean_flavors_5000 = []\n",
    "\n",
    "for i in range(5000):\n",
    "    mean_flavors_5000.append(\n",
    "        np.mean(coffee_sample.sample(frac=1, replace=True)['flavor'])\n",
    "    )\n",
    "    "
   ]
  },
  {
   "cell_type": "code",
   "execution_count": 13,
   "id": "8b5d45e4-7c06-4e94-bf85-f6d246af6fca",
   "metadata": {},
   "outputs": [
    {
     "data": {
      "text/plain": [
       "7.53444"
      ]
     },
     "execution_count": 13,
     "metadata": {},
     "output_type": "execute_result"
    }
   ],
   "source": [
    "#sample mean\n",
    "coffee_sample['flavor'].mean()"
   ]
  },
  {
   "cell_type": "code",
   "execution_count": 14,
   "id": "861447dc-7493-44fb-9853-74f51d1705c8",
   "metadata": {},
   "outputs": [
    {
     "data": {
      "text/plain": [
       "7.526046337817639"
      ]
     },
     "execution_count": 14,
     "metadata": {},
     "output_type": "execute_result"
    }
   ],
   "source": [
    "#populaiton mean\n",
    "df_coffee['flavor'].mean()"
   ]
  },
  {
   "cell_type": "code",
   "execution_count": null,
   "id": "a60cff09-68ea-4c86-b142-17b5878529f6",
   "metadata": {},
   "outputs": [],
   "source": [
    "#bootstarp mean\n",
    "np.mean(mean_flavors_5000\n",
    "       \n",
    "       \n",
    "       )"
   ]
  },
  {
   "cell_type": "code",
   "execution_count": 15,
   "id": "b11713b4-e579-4073-a0dc-6ed9477afccb",
   "metadata": {},
   "outputs": [
    {
     "data": {
      "text/plain": [
       "0.3606377761843908"
      ]
     },
     "execution_count": 15,
     "metadata": {},
     "output_type": "execute_result"
    }
   ],
   "source": [
    "#sample std\n",
    "coffee_sample['flavor'].std()"
   ]
  },
  {
   "cell_type": "code",
   "execution_count": 16,
   "id": "d9a7920f-f722-4abf-9d17-60732f8b55c8",
   "metadata": {},
   "outputs": [
    {
     "data": {
      "text/plain": [
       "0.016420622467861756"
      ]
     },
     "execution_count": 16,
     "metadata": {},
     "output_type": "execute_result"
    }
   ],
   "source": [
    "#bootstrap std= standart error\n",
    "np.std(mean_flavors_5000,ddof=1)"
   ]
  },
  {
   "cell_type": "code",
   "execution_count": 17,
   "id": "144da5dd-6031-4886-ac1e-1632d3c642de",
   "metadata": {},
   "outputs": [
    {
     "data": {
      "text/plain": [
       "0.3671762807099924"
      ]
     },
     "execution_count": 17,
     "metadata": {},
     "output_type": "execute_result"
    }
   ],
   "source": [
    "np.std(mean_flavors_5000,ddof=1)*np.sqrt(5000)"
   ]
  },
  {
   "cell_type": "code",
   "execution_count": 18,
   "id": "a11c367c-1781-42bd-a12a-1899ec455c2a",
   "metadata": {},
   "outputs": [
    {
     "data": {
      "text/plain": [
       "(array([   4.,   37.,  185.,  733., 1380., 1454.,  867.,  289.,   45.,\n",
       "           6.]),\n",
       " array([7.46846 , 7.481378, 7.494296, 7.507214, 7.520132, 7.53305 ,\n",
       "        7.545968, 7.558886, 7.571804, 7.584722, 7.59764 ]),\n",
       " <BarContainer object of 10 artists>)"
      ]
     },
     "execution_count": 18,
     "metadata": {},
     "output_type": "execute_result"
    },
    {
     "data": {
      "image/png": "[encoded data removed]",
      "text/plain": [
       "<Figure size 640x480 with 1 Axes>"
      ]
     },
     "metadata": {},
     "output_type": "display_data"
    }
   ],
   "source": [
    "#bootstrap distrubiton of mean flavor\n",
    "\n",
    "import matplotlib.pyplot as plt\n",
    "plt.hist(mean_flavors_5000)"
   ]
  },
  {
   "cell_type": "code",
   "execution_count": null,
   "id": "8d89b19f-792f-4bc6-9875-333740c7247d",
   "metadata": {},
   "outputs": [],
   "source": [
    "#güven aralığı"
   ]
  },
  {
   "cell_type": "code",
   "execution_count": null,
   "id": "6636a0fb-dc3e-46df-99f5-760ae25cb79b",
   "metadata": {},
   "outputs": [],
   "source": [
    "#nokta tahmininin ingilizcesi vizede sordu"
   ]
  },
  {
   "cell_type": "code",
   "execution_count": 19,
   "id": "a726fbc7-71d8-4aa1-a203-f215d087cf2e",
   "metadata": {},
   "outputs": [
    {
     "data": {
      "text/plain": [
       "<matplotlib.lines.Line2D at 0x788cc47bcb30>"
      ]
     },
     "execution_count": 19,
     "metadata": {},
     "output_type": "execute_result"
    },
    {
     "data": {
      "image/png": "[encoded data removed]",
      "text/plain": [
       "<Figure size 640x480 with 1 Axes>"
      ]
     },
     "metadata": {},
     "output_type": "display_data"
    }
   ],
   "source": [
    "#bootstrap distrubiton of mean flavor an mean line\n",
    "plt.hist(mean_flavors_5000);\n",
    "plt.axvline(np.mean(mean_flavors_5000), color='red', linestyle='dashed', linewidth=2, label=f'Mean: {np.mean(mean_flavors_5000):.2f}')"
   ]
  },
  {
   "cell_type": "code",
   "execution_count": 20,
   "id": "415e5514-f9fc-4831-8c93-245504207e82",
   "metadata": {},
   "outputs": [
    {
     "data": {
      "text/plain": [
       "<matplotlib.legend.Legend at 0x788cb11293d0>"
      ]
     },
     "execution_count": 20,
     "metadata": {},
     "output_type": "execute_result"
    },
    {
     "data": {
      "image/png": "[encoded data removed]",
      "text/plain": [
       "<Figure size 640x480 with 1 Axes>"
      ]
     },
     "metadata": {},
     "output_type": "display_data"
    }
   ],
   "source": [
    "mean = np.mean(mean_flavors_5000)\n",
    "plus_one_std = mean + np.std(mean_flavors_5000, ddof=1)\n",
    "minus_one_std = mean - np.std(mean_flavors_5000, ddof=1)\n",
    "\n",
    "plt.hist(mean_flavors_5000);\n",
    "\n",
    "plt.axvline(mean, color='black', linestyle='dashed', linewidth=2, label=f'Mean: {mean:.2f}')\n",
    "\n",
    "plt.axvline(plus_one_std, color='red', linestyle='dashed', linewidth=2, label=f'mean + std: {plus_one_std:.2f}')\n",
    "\n",
    "plt.axvline(minus_one_std, color='yellow', linestyle='dashed', linewidth=2, label=f'mean - std: {minus_one_std:.2f}')\n",
    "\n",
    "plt.legend()"
   ]
  },
  {
   "cell_type": "code",
   "execution_count": 21,
   "id": "894bdc2d-0dc3-413c-a0d3-0e7e370dc4bd",
   "metadata": {},
   "outputs": [
    {
     "data": {
      "text/plain": [
       "<matplotlib.legend.Legend at 0x788cb1129ee0>"
      ]
     },
     "execution_count": 21,
     "metadata": {},
     "output_type": "execute_result"
    },
    {
     "data": {
      "image/png": "[encoded data removed]",
      "text/plain": [
       "<Figure size 640x480 with 1 Axes>"
      ]
     },
     "metadata": {},
     "output_type": "display_data"
    }
   ],
   "source": [
    "quantile_lower = np.quantile(mean_flavors_5000, 0.025)\n",
    "quantile_upper = np.quantile(mean_flavors_5000, 0.975)\n",
    "\n",
    "plt.hist(mean_flavors_5000);\n",
    "\n",
    "plt.axvline(mean, color='black', linestyle='dashed', linewidth=2, label=f'Mean: {mean:.2f}')\n",
    "\n",
    "plt.axvline(quantile_lower, color='red', linestyle='dashed', linewidth=2, label=f'quantile_lower: {quantile_lower:.2f}')\n",
    "\n",
    "plt.axvline(quantile_upper, color='yellow', linestyle='dashed', linewidth=2, label=f'quantile_upper: {quantile_upper:.2f}')\n",
    "\n",
    "plt.legend()"
   ]
  },
  {
   "cell_type": "code",
   "execution_count": 22,
   "id": "7d5e33a4-9f12-4936-903e-92302e0adb17",
   "metadata": {},
   "outputs": [
    {
     "data": {
      "text/plain": [
       "<matplotlib.legend.Legend at 0x788cb00037d0>"
      ]
     },
     "execution_count": 22,
     "metadata": {},
     "output_type": "execute_result"
    },
    {
     "data": {
      "image/png": "[encoded data removed]",
      "text/plain": [
       "<Figure size 640x480 with 1 Axes>"
      ]
     },
     "metadata": {},
     "output_type": "display_data"
    }
   ],
   "source": []
  },
  {
   "cell_type": "code",
   "execution_count": 23,
   "id": "c6acdc46-307a-4f43-8fd0-acd3004b00b8",
   "metadata": {},
   "outputs": [
    {
     "data": {
      "image/png": "[encoded data removed]",
      "text/plain": [
       "<Figure size 640x480 with 1 Axes>"
      ]
     },
     "metadata": {},
     "output_type": "display_data"
    }
   ],
   "source": [
    "from scipy.stats import norm\n",
    "\n",
    "p_values = np.linspace(0, 1, 100)\n",
    "\n",
    "quantiles = norm.ppf(p_values, loc=0, scale=1)\n",
    "\n",
    "plt.plot(p_values, quantiles, label=\"Inverse CDF (Normal Distribution)\")\n",
    "\n",
    "p1, p2 = 0.025, 0.975\n",
    "quantile_025 = norm.ppf(p1)\n",
    "quantile_975 = norm.ppf(p2)\n",
    "\n",
    "plt.scatter([p1, p2], [quantile_025, quantile_975], color='red')  # Noktaları çiz\n",
    "plt.axvline(p1, color='red', linestyle='dashed', linewidth=1)  # p1 için dikey çizgi\n",
    "plt.axvline(p2, color='red', linestyle='dashed', linewidth=1)  # p2 için dikey çizgi\n",
    "\n",
    "# X ve Y değerlerini grafikte gösterelim\n",
    "plt.text(p1, quantile_025, f'({p1:.3f}, {quantile_025:.2f})', color='red', fontsize=10, ha='right')\n",
    "plt.text(p2, quantile_975, f'({p2:.3f}, {quantile_975:.2f})', color='red', fontsize=10, ha='right')\n",
    "\n",
    "\n",
    "\n",
    "plt.xlabel(\"Probability (p)\")\n",
    "plt.ylabel(\"Quantile (x)\")\n",
    "plt.title(\"Inverse Cumulative Distribution Function (Normal)\")\n",
    "plt.grid(True)\n",
    "plt.legend()\n",
    "plt.show()"
   ]
  },
  {
   "cell_type": "code",
   "execution_count": 24,
   "id": "611baf8a-6014-4121-9487-8bc6710b8f3d",
   "metadata": {},
   "outputs": [
    {
     "data": {
      "text/plain": [
       "7.53440658"
      ]
     },
     "execution_count": 24,
     "metadata": {},
     "output_type": "execute_result"
    }
   ],
   "source": [
    "point_estimate=np.mean(mean_flavors_5000)\n",
    "point_estimate"
   ]
  },
  {
   "cell_type": "code",
   "execution_count": 25,
   "id": "b46063a1-82e9-42ef-aae3-ca45c4cefa1c",
   "metadata": {},
   "outputs": [
    {
     "data": {
      "text/plain": [
       "0.016420622467861756"
      ]
     },
     "execution_count": 25,
     "metadata": {},
     "output_type": "execute_result"
    }
   ],
   "source": [
    "std_error = np.std(mean_flavors_5000,ddof=1)\n",
    "std_error"
   ]
  },
  {
   "cell_type": "code",
   "execution_count": 26,
   "id": "c5b79144-4737-4a60-934f-d6fc7b398bb3",
   "metadata": {},
   "outputs": [
    {
     "name": "stdout",
     "output_type": "stream",
     "text": [
      "7.502222751359262 7.566590408640738\n"
     ]
    }
   ],
   "source": [
    "from scipy.stats import norm\n",
    "lower = norm.ppf(0.025, loc=point_estimate, scale=std_error)\n",
    "upper = norm.ppf(0.975, loc=point_estimate, scale=std_error)\n",
    "\n",
    "print(lower, upper)"
   ]
  },
  {
   "cell_type": "code",
   "execution_count": 28,
   "id": "7a16d776-9158-403c-b109-44110c4bbcfa",
   "metadata": {},
   "outputs": [
    {
     "data": {
      "text/html": [
       "<div>\n",
       "<style scoped>\n",
       "    .dataframe tbody tr th:only-of-type {\n",
       "        vertical-align: middle;\n",
       "    }\n",
       "\n",
       "    .dataframe tbody tr th {\n",
       "        vertical-align: top;\n",
       "    }\n",
       "\n",
       "    .dataframe thead th {\n",
       "        text-align: right;\n",
       "    }\n",
       "</style>\n",
       "<table border=\"1\" class=\"dataframe\">\n",
       "  <thead>\n",
       "    <tr style=\"text-align: right;\">\n",
       "      <th></th>\n",
       "      <th>respondent</th>\n",
       "      <th>main_branch</th>\n",
       "      <th>hobbyist</th>\n",
       "      <th>age</th>\n",
       "      <th>age_1st_code</th>\n",
       "      <th>age_first_code_cut</th>\n",
       "      <th>comp_freq</th>\n",
       "      <th>comp_total</th>\n",
       "      <th>converted_comp</th>\n",
       "      <th>country</th>\n",
       "      <th>...</th>\n",
       "      <th>survey_length</th>\n",
       "      <th>trans</th>\n",
       "      <th>undergrad_major</th>\n",
       "      <th>webframe_desire_next_year</th>\n",
       "      <th>webframe_worked_with</th>\n",
       "      <th>welcome_change</th>\n",
       "      <th>work_week_hrs</th>\n",
       "      <th>years_code</th>\n",
       "      <th>years_code_pro</th>\n",
       "      <th>age_cat</th>\n",
       "    </tr>\n",
       "  </thead>\n",
       "  <tbody>\n",
       "    <tr>\n",
       "      <th>0</th>\n",
       "      <td>36.0</td>\n",
       "      <td>I am not primarily a developer, but I write co...</td>\n",
       "      <td>Yes</td>\n",
       "      <td>34.0</td>\n",
       "      <td>30.0</td>\n",
       "      <td>adult</td>\n",
       "      <td>Yearly</td>\n",
       "      <td>60000.0</td>\n",
       "      <td>77556.0</td>\n",
       "      <td>United Kingdom</td>\n",
       "      <td>...</td>\n",
       "      <td>Appropriate in length</td>\n",
       "      <td>No</td>\n",
       "      <td>Computer science, computer engineering, or sof...</td>\n",
       "      <td>Express;React.js</td>\n",
       "      <td>Express;React.js</td>\n",
       "      <td>Just as welcome now as I felt last year</td>\n",
       "      <td>40.0</td>\n",
       "      <td>4.0</td>\n",
       "      <td>3.0</td>\n",
       "      <td>At least 30</td>\n",
       "    </tr>\n",
       "    <tr>\n",
       "      <th>1</th>\n",
       "      <td>47.0</td>\n",
       "      <td>I am a developer by profession</td>\n",
       "      <td>Yes</td>\n",
       "      <td>53.0</td>\n",
       "      <td>10.0</td>\n",
       "      <td>child</td>\n",
       "      <td>Yearly</td>\n",
       "      <td>58000.0</td>\n",
       "      <td>74970.0</td>\n",
       "      <td>United Kingdom</td>\n",
       "      <td>...</td>\n",
       "      <td>Appropriate in length</td>\n",
       "      <td>No</td>\n",
       "      <td>A natural science (such as biology, chemistry,...</td>\n",
       "      <td>Flask;Spring</td>\n",
       "      <td>Flask;Spring</td>\n",
       "      <td>Just as welcome now as I felt last year</td>\n",
       "      <td>40.0</td>\n",
       "      <td>43.0</td>\n",
       "      <td>28.0</td>\n",
       "      <td>At least 30</td>\n",
       "    </tr>\n",
       "    <tr>\n",
       "      <th>2</th>\n",
       "      <td>69.0</td>\n",
       "      <td>I am a developer by profession</td>\n",
       "      <td>Yes</td>\n",
       "      <td>25.0</td>\n",
       "      <td>12.0</td>\n",
       "      <td>child</td>\n",
       "      <td>Yearly</td>\n",
       "      <td>550000.0</td>\n",
       "      <td>594539.0</td>\n",
       "      <td>France</td>\n",
       "      <td>...</td>\n",
       "      <td>Too short</td>\n",
       "      <td>No</td>\n",
       "      <td>Computer science, computer engineering, or sof...</td>\n",
       "      <td>Django;Flask</td>\n",
       "      <td>Django;Flask</td>\n",
       "      <td>Just as welcome now as I felt last year</td>\n",
       "      <td>40.0</td>\n",
       "      <td>13.0</td>\n",
       "      <td>3.0</td>\n",
       "      <td>Under 30</td>\n",
       "    </tr>\n",
       "    <tr>\n",
       "      <th>3</th>\n",
       "      <td>125.0</td>\n",
       "      <td>I am not primarily a developer, but I write co...</td>\n",
       "      <td>Yes</td>\n",
       "      <td>41.0</td>\n",
       "      <td>30.0</td>\n",
       "      <td>adult</td>\n",
       "      <td>Monthly</td>\n",
       "      <td>200000.0</td>\n",
       "      <td>2000000.0</td>\n",
       "      <td>United States</td>\n",
       "      <td>...</td>\n",
       "      <td>Appropriate in length</td>\n",
       "      <td>No</td>\n",
       "      <td>None</td>\n",
       "      <td>None</td>\n",
       "      <td>None</td>\n",
       "      <td>Just as welcome now as I felt last year</td>\n",
       "      <td>40.0</td>\n",
       "      <td>11.0</td>\n",
       "      <td>11.0</td>\n",
       "      <td>At least 30</td>\n",
       "    </tr>\n",
       "    <tr>\n",
       "      <th>4</th>\n",
       "      <td>147.0</td>\n",
       "      <td>I am not primarily a developer, but I write co...</td>\n",
       "      <td>No</td>\n",
       "      <td>28.0</td>\n",
       "      <td>15.0</td>\n",
       "      <td>adult</td>\n",
       "      <td>Yearly</td>\n",
       "      <td>50000.0</td>\n",
       "      <td>37816.0</td>\n",
       "      <td>Canada</td>\n",
       "      <td>...</td>\n",
       "      <td>Appropriate in length</td>\n",
       "      <td>No</td>\n",
       "      <td>Another engineering discipline (such as civil,...</td>\n",
       "      <td>None</td>\n",
       "      <td>Express;Flask</td>\n",
       "      <td>Just as welcome now as I felt last year</td>\n",
       "      <td>40.0</td>\n",
       "      <td>5.0</td>\n",
       "      <td>3.0</td>\n",
       "      <td>Under 30</td>\n",
       "    </tr>\n",
       "    <tr>\n",
       "      <th>...</th>\n",
       "      <td>...</td>\n",
       "      <td>...</td>\n",
       "      <td>...</td>\n",
       "      <td>...</td>\n",
       "      <td>...</td>\n",
       "      <td>...</td>\n",
       "      <td>...</td>\n",
       "      <td>...</td>\n",
       "      <td>...</td>\n",
       "      <td>...</td>\n",
       "      <td>...</td>\n",
       "      <td>...</td>\n",
       "      <td>...</td>\n",
       "      <td>...</td>\n",
       "      <td>...</td>\n",
       "      <td>...</td>\n",
       "      <td>...</td>\n",
       "      <td>...</td>\n",
       "      <td>...</td>\n",
       "      <td>...</td>\n",
       "      <td>...</td>\n",
       "    </tr>\n",
       "    <tr>\n",
       "      <th>2256</th>\n",
       "      <td>62812.0</td>\n",
       "      <td>I am a developer by profession</td>\n",
       "      <td>Yes</td>\n",
       "      <td>40.0</td>\n",
       "      <td>10.0</td>\n",
       "      <td>child</td>\n",
       "      <td>Yearly</td>\n",
       "      <td>145000.0</td>\n",
       "      <td>145000.0</td>\n",
       "      <td>United States</td>\n",
       "      <td>...</td>\n",
       "      <td>Too long</td>\n",
       "      <td>No</td>\n",
       "      <td>Computer science, computer engineering, or sof...</td>\n",
       "      <td>Flask;jQuery</td>\n",
       "      <td>Angular;Angular.js;Flask;jQuery;React.js</td>\n",
       "      <td>Somewhat less welcome now than last year</td>\n",
       "      <td>50.0</td>\n",
       "      <td>30.0</td>\n",
       "      <td>20.0</td>\n",
       "      <td>At least 30</td>\n",
       "    </tr>\n",
       "    <tr>\n",
       "      <th>2257</th>\n",
       "      <td>62835.0</td>\n",
       "      <td>I am a developer by profession</td>\n",
       "      <td>Yes</td>\n",
       "      <td>23.0</td>\n",
       "      <td>9.0</td>\n",
       "      <td>child</td>\n",
       "      <td>Monthly</td>\n",
       "      <td>180000.0</td>\n",
       "      <td>33972.0</td>\n",
       "      <td>Russian Federation</td>\n",
       "      <td>...</td>\n",
       "      <td>Too short</td>\n",
       "      <td>No</td>\n",
       "      <td>Computer science, computer engineering, or sof...</td>\n",
       "      <td>ASP.NET Core</td>\n",
       "      <td>ASP.NET Core;Flask</td>\n",
       "      <td>Just as welcome now as I felt last year</td>\n",
       "      <td>60.0</td>\n",
       "      <td>8.0</td>\n",
       "      <td>3.0</td>\n",
       "      <td>Under 30</td>\n",
       "    </tr>\n",
       "    <tr>\n",
       "      <th>2258</th>\n",
       "      <td>62837.0</td>\n",
       "      <td>I am a developer by profession</td>\n",
       "      <td>Yes</td>\n",
       "      <td>27.0</td>\n",
       "      <td>8.0</td>\n",
       "      <td>child</td>\n",
       "      <td>Monthly</td>\n",
       "      <td>7500.0</td>\n",
       "      <td>97284.0</td>\n",
       "      <td>Germany</td>\n",
       "      <td>...</td>\n",
       "      <td>Appropriate in length</td>\n",
       "      <td>No</td>\n",
       "      <td>Mathematics or statistics</td>\n",
       "      <td>None</td>\n",
       "      <td>None</td>\n",
       "      <td>Just as welcome now as I felt last year</td>\n",
       "      <td>42.0</td>\n",
       "      <td>12.0</td>\n",
       "      <td>2.0</td>\n",
       "      <td>Under 30</td>\n",
       "    </tr>\n",
       "    <tr>\n",
       "      <th>2259</th>\n",
       "      <td>62867.0</td>\n",
       "      <td>I am not primarily a developer, but I write co...</td>\n",
       "      <td>Yes</td>\n",
       "      <td>33.0</td>\n",
       "      <td>13.0</td>\n",
       "      <td>child</td>\n",
       "      <td>Monthly</td>\n",
       "      <td>6000.0</td>\n",
       "      <td>72000.0</td>\n",
       "      <td>Panama</td>\n",
       "      <td>...</td>\n",
       "      <td>Too long</td>\n",
       "      <td>No</td>\n",
       "      <td>Another engineering discipline (such as civil,...</td>\n",
       "      <td>None</td>\n",
       "      <td>Django;React.js</td>\n",
       "      <td>A lot less welcome now than last year</td>\n",
       "      <td>45.0</td>\n",
       "      <td>15.0</td>\n",
       "      <td>2.0</td>\n",
       "      <td>At least 30</td>\n",
       "    </tr>\n",
       "    <tr>\n",
       "      <th>2260</th>\n",
       "      <td>62882.0</td>\n",
       "      <td>I am a developer by profession</td>\n",
       "      <td>Yes</td>\n",
       "      <td>28.0</td>\n",
       "      <td>13.0</td>\n",
       "      <td>child</td>\n",
       "      <td>Yearly</td>\n",
       "      <td>180000.0</td>\n",
       "      <td>180000.0</td>\n",
       "      <td>United States</td>\n",
       "      <td>...</td>\n",
       "      <td>Appropriate in length</td>\n",
       "      <td>No</td>\n",
       "      <td>Computer science, computer engineering, or sof...</td>\n",
       "      <td>Angular;Express;Flask;React.js</td>\n",
       "      <td>Angular;Angular.js;Django;Drupal;Express;Flask</td>\n",
       "      <td>Just as welcome now as I felt last year</td>\n",
       "      <td>40.0</td>\n",
       "      <td>11.0</td>\n",
       "      <td>5.0</td>\n",
       "      <td>Under 30</td>\n",
       "    </tr>\n",
       "  </tbody>\n",
       "</table>\n",
       "<p>2261 rows × 63 columns</p>\n",
       "</div>"
      ],
      "text/plain": [
       "      respondent                                        main_branch hobbyist  \\\n",
       "0           36.0  I am not primarily a developer, but I write co...      Yes   \n",
       "1           47.0                     I am a developer by profession      Yes   \n",
       "2           69.0                     I am a developer by profession      Yes   \n",
       "3          125.0  I am not primarily a developer, but I write co...      Yes   \n",
       "4          147.0  I am not primarily a developer, but I write co...       No   \n",
       "...          ...                                                ...      ...   \n",
       "2256     62812.0                     I am a developer by profession      Yes   \n",
       "2257     62835.0                     I am a developer by profession      Yes   \n",
       "2258     62837.0                     I am a developer by profession      Yes   \n",
       "2259     62867.0  I am not primarily a developer, but I write co...      Yes   \n",
       "2260     62882.0                     I am a developer by profession      Yes   \n",
       "\n",
       "       age  age_1st_code age_first_code_cut comp_freq  comp_total  \\\n",
       "0     34.0          30.0              adult    Yearly     60000.0   \n",
       "1     53.0          10.0              child    Yearly     58000.0   \n",
       "2     25.0          12.0              child    Yearly    550000.0   \n",
       "3     41.0          30.0              adult   Monthly    200000.0   \n",
       "4     28.0          15.0              adult    Yearly     50000.0   \n",
       "...    ...           ...                ...       ...         ...   \n",
       "2256  40.0          10.0              child    Yearly    145000.0   \n",
       "2257  23.0           9.0              child   Monthly    180000.0   \n",
       "2258  27.0           8.0              child   Monthly      7500.0   \n",
       "2259  33.0          13.0              child   Monthly      6000.0   \n",
       "2260  28.0          13.0              child    Yearly    180000.0   \n",
       "\n",
       "      converted_comp             country  ...          survey_length trans  \\\n",
       "0            77556.0      United Kingdom  ...  Appropriate in length    No   \n",
       "1            74970.0      United Kingdom  ...  Appropriate in length    No   \n",
       "2           594539.0              France  ...              Too short    No   \n",
       "3          2000000.0       United States  ...  Appropriate in length    No   \n",
       "4            37816.0              Canada  ...  Appropriate in length    No   \n",
       "...              ...                 ...  ...                    ...   ...   \n",
       "2256        145000.0       United States  ...               Too long    No   \n",
       "2257         33972.0  Russian Federation  ...              Too short    No   \n",
       "2258         97284.0             Germany  ...  Appropriate in length    No   \n",
       "2259         72000.0              Panama  ...               Too long    No   \n",
       "2260        180000.0       United States  ...  Appropriate in length    No   \n",
       "\n",
       "                                        undergrad_major  \\\n",
       "0     Computer science, computer engineering, or sof...   \n",
       "1     A natural science (such as biology, chemistry,...   \n",
       "2     Computer science, computer engineering, or sof...   \n",
       "3                                                  None   \n",
       "4     Another engineering discipline (such as civil,...   \n",
       "...                                                 ...   \n",
       "2256  Computer science, computer engineering, or sof...   \n",
       "2257  Computer science, computer engineering, or sof...   \n",
       "2258                          Mathematics or statistics   \n",
       "2259  Another engineering discipline (such as civil,...   \n",
       "2260  Computer science, computer engineering, or sof...   \n",
       "\n",
       "           webframe_desire_next_year  \\\n",
       "0                   Express;React.js   \n",
       "1                       Flask;Spring   \n",
       "2                       Django;Flask   \n",
       "3                               None   \n",
       "4                               None   \n",
       "...                              ...   \n",
       "2256                    Flask;jQuery   \n",
       "2257                    ASP.NET Core   \n",
       "2258                            None   \n",
       "2259                            None   \n",
       "2260  Angular;Express;Flask;React.js   \n",
       "\n",
       "                                webframe_worked_with  \\\n",
       "0                                   Express;React.js   \n",
       "1                                       Flask;Spring   \n",
       "2                                       Django;Flask   \n",
       "3                                               None   \n",
       "4                                      Express;Flask   \n",
       "...                                              ...   \n",
       "2256        Angular;Angular.js;Flask;jQuery;React.js   \n",
       "2257                              ASP.NET Core;Flask   \n",
       "2258                                            None   \n",
       "2259                                 Django;React.js   \n",
       "2260  Angular;Angular.js;Django;Drupal;Express;Flask   \n",
       "\n",
       "                                welcome_change work_week_hrs years_code  \\\n",
       "0      Just as welcome now as I felt last year          40.0        4.0   \n",
       "1      Just as welcome now as I felt last year          40.0       43.0   \n",
       "2      Just as welcome now as I felt last year          40.0       13.0   \n",
       "3      Just as welcome now as I felt last year          40.0       11.0   \n",
       "4      Just as welcome now as I felt last year          40.0        5.0   \n",
       "...                                        ...           ...        ...   \n",
       "2256  Somewhat less welcome now than last year          50.0       30.0   \n",
       "2257   Just as welcome now as I felt last year          60.0        8.0   \n",
       "2258   Just as welcome now as I felt last year          42.0       12.0   \n",
       "2259     A lot less welcome now than last year          45.0       15.0   \n",
       "2260   Just as welcome now as I felt last year          40.0       11.0   \n",
       "\n",
       "     years_code_pro      age_cat  \n",
       "0               3.0  At least 30  \n",
       "1              28.0  At least 30  \n",
       "2               3.0     Under 30  \n",
       "3              11.0  At least 30  \n",
       "4               3.0     Under 30  \n",
       "...             ...          ...  \n",
       "2256           20.0  At least 30  \n",
       "2257            3.0     Under 30  \n",
       "2258            2.0     Under 30  \n",
       "2259            2.0  At least 30  \n",
       "2260            5.0     Under 30  \n",
       "\n",
       "[2261 rows x 63 columns]"
      ]
     },
     "execution_count": 28,
     "metadata": {},
     "output_type": "execute_result"
    }
   ],
   "source": [
    "import pandas as pd\n",
    "\n",
    "df_stck=pd.read_feather(\"data/stack_overflow.feather\")\n",
    "df_stck"
   ]
  },
  {
   "cell_type": "code",
   "execution_count": 29,
   "id": "4513beb9-d058-4679-92e8-c415b0e98008",
   "metadata": {},
   "outputs": [
    {
     "data": {
      "text/plain": [
       "119574.71738168952"
      ]
     },
     "execution_count": 29,
     "metadata": {},
     "output_type": "execute_result"
    }
   ],
   "source": [
    "#şimdi de elimizde olan verilere göre ortalama \n",
    "mean_comp_samp=df_stck['converted_comp'].mean()\n",
    "mean_comp_samp"
   ]
  },
  {
   "cell_type": "code",
   "execution_count": 31,
   "id": "f1d33799-9b8b-462c-9001-2662c589bda6",
   "metadata": {},
   "outputs": [],
   "source": [
    "import numpy as np\n",
    "\n",
    "so_boot_distn = []\n",
    "\n",
    "for i in range(5000):\n",
    "    so_boot_distn.append(\n",
    "        np.mean(\n",
    "            df_stck.sample(frac=1, replace=True)['converted_comp']\n",
    "        )\n",
    "    )"
   ]
  },
  {
   "cell_type": "code",
   "execution_count": 33,
   "id": "28b3fd2f-6c89-4f13-afe6-1fc286f73fcc",
   "metadata": {},
   "outputs": [
    {
     "data": {
      "text/plain": [
       "(array([  1.,   0.,   0.,   0.,   0.,   0.,   2.,   5.,  11.,   8.,  18.,\n",
       "         28.,  50.,  44.,  70., 120., 122., 131., 192., 199., 237., 263.,\n",
       "        275., 268., 305., 283., 294., 288., 268., 249., 233., 172., 152.,\n",
       "        159., 141., 113.,  86.,  64.,  50.,  27.,  21.,  14.,  13.,   9.,\n",
       "          9.,   2.,   1.,   1.,   1.,   1.]),\n",
       " array([ 98029.67713401,  98872.00038921,  99714.32364441, 100556.6468996 ,\n",
       "        101398.9701548 , 102241.29341   , 103083.61666519, 103925.93992039,\n",
       "        104768.26317559, 105610.58643078, 106452.90968598, 107295.23294118,\n",
       "        108137.55619637, 108979.87945157, 109822.20270677, 110664.52596196,\n",
       "        111506.84921716, 112349.17247236, 113191.49572755, 114033.81898275,\n",
       "        114876.14223795, 115718.46549314, 116560.78874834, 117403.11200354,\n",
       "        118245.43525874, 119087.75851393, 119930.08176913, 120772.40502433,\n",
       "        121614.72827952, 122457.05153472, 123299.37478992, 124141.69804511,\n",
       "        124984.02130031, 125826.34455551, 126668.6678107 , 127510.9910659 ,\n",
       "        128353.3143211 , 129195.63757629, 130037.96083149, 130880.28408669,\n",
       "        131722.60734188, 132564.93059708, 133407.25385228, 134249.57710747,\n",
       "        135091.90036267, 135934.22361787, 136776.54687307, 137618.87012826,\n",
       "        138461.19338346, 139303.51663866, 140145.83989385]),\n",
       " <BarContainer object of 50 artists>)"
      ]
     },
     "execution_count": 33,
     "metadata": {},
     "output_type": "execute_result"
    },
    {
     "data": {
      "image/png": "[encoded data removed]",
      "text/plain": [
       "<Figure size 640x480 with 1 Axes>"
      ]
     },
     "metadata": {},
     "output_type": "display_data"
    }
   ],
   "source": [
    "import matplotlib.pyplot as plt \n",
    "plt.hist(so_boot_distn,bins=50)\n",
    "#50 parçaya bölmüş"
   ]
  },
  {
   "cell_type": "code",
   "execution_count": 32,
   "id": "eb270563-01bc-4f49-b865-82b6ccbe3721",
   "metadata": {},
   "outputs": [
    {
     "data": {
      "text/plain": [
       "5533.193273612492"
      ]
     },
     "execution_count": 32,
     "metadata": {},
     "output_type": "execute_result"
    }
   ],
   "source": [
    "std_error =np.std(so_boot_distn , ddof=1)\n",
    "std_error"
   ]
  },
  {
   "cell_type": "markdown",
   "id": "8c96fee1-b7a3-4058-813c-6023411c4061",
   "metadata": {},
   "source": [
    "### z score"
   ]
  },
  {
   "cell_type": "code",
   "execution_count": 34,
   "id": "7e846917-750e-4818-8561-9410d90ecc06",
   "metadata": {},
   "outputs": [
    {
     "data": {
      "text/plain": [
       "119574.71738168952"
      ]
     },
     "execution_count": 34,
     "metadata": {},
     "output_type": "execute_result"
    }
   ],
   "source": [
    "df_stck['converted_comp'].mean()"
   ]
  },
  {
   "cell_type": "code",
   "execution_count": 36,
   "id": "9db193e7-331a-405d-b58d-8ea306890c7d",
   "metadata": {},
   "outputs": [],
   "source": [
    "mean_comp_hyp=110000"
   ]
  },
  {
   "cell_type": "code",
   "execution_count": 37,
   "id": "bc91dd4b-decb-43bd-8736-44861511f39d",
   "metadata": {},
   "outputs": [
    {
     "data": {
      "text/plain": [
       "5533.193273612492"
      ]
     },
     "execution_count": 37,
     "metadata": {},
     "output_type": "execute_result"
    }
   ],
   "source": [
    "std_error"
   ]
  },
  {
   "cell_type": "code",
   "execution_count": 38,
   "id": "b04cd5cb-5a42-4df4-ad09-e59a5eb450b3",
   "metadata": {},
   "outputs": [
    {
     "data": {
      "text/plain": [
       "1.7304144113943836"
      ]
     },
     "execution_count": 38,
     "metadata": {},
     "output_type": "execute_result"
    }
   ],
   "source": [
    "z_score = (mean_comp_samp - mean_comp_hyp)/ std_error\n",
    "z_score"
   ]
  },
  {
   "cell_type": "code",
   "execution_count": 39,
   "id": "c0c065fc-0206-4743-b9a7-5271971bad31",
   "metadata": {},
   "outputs": [
    {
     "data": {
      "text/plain": [
       "[<matplotlib.lines.Line2D at 0x788c923f6030>]"
      ]
     },
     "execution_count": 39,
     "metadata": {},
     "output_type": "execute_result"
    },
    {
     "data": {
      "image/png": "[encoded data removed]",
      "text/plain": [
       "<Figure size 640x480 with 1 Axes>"
      ]
     },
     "metadata": {},
     "output_type": "display_data"
    }
   ],
   "source": [
    "from scipy.stats import norm\n",
    "\n",
    "z_data = np.arange(-4,4,0.1)\n",
    "\n",
    "plt.plot(z_data , norm.pdf(z_data , loc=0, scale=1))\n",
    "#pdf: olasılık yoğunluk fonk."
   ]
  },
  {
   "cell_type": "markdown",
   "id": "d8330eca-cf86-416b-89ac-209ff96396ab",
   "metadata": {},
   "source": [
    "sağ kuyruk testi \n",
    "sol kuyruk testi\n",
    "iki kuyruk\n",
    "0 testinde farklı bi değer bulmka istiyosan"
   ]
  },
  {
   "cell_type": "code",
   "execution_count": null,
   "id": "b362b038-1b69-42f6-bca0-f994ee9c6fc4",
   "metadata": {},
   "outputs": [],
   "source": []
  }
 ],
 "metadata": {
  "kernelspec": {
   "display_name": "Python 3 (ipykernel)",
   "language": "python",
   "name": "python3"
  },
  "language_info": {
   "codemirror_mode": {
    "name": "ipython",
    "version": 3
   },
   "file_extension": ".py",
   "mimetype": "text/x-python",
   "name": "python",
   "nbconvert_exporter": "python",
   "pygments_lexer": "ipython3",
   "version": "3.12.2"
  }
 },
 "nbformat": 4,
 "nbformat_minor": 5
}
