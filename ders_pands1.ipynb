{
 "cells": [
  {
   "cell_type": "code",
   "execution_count": 21,
   "metadata": {},
   "outputs": [],
   "source": [
    "import pandas as pd\n",
    "from numpy.random import randn \n",
    "import numpy as np "
   ]
  },
  {
   "cell_type": "code",
   "execution_count": 8,
   "metadata": {},
   "outputs": [
    {
     "name": "stdout",
     "output_type": "stream",
     "text": [
      "Column1   -0.355104\n",
      "Column2   -0.989418\n",
      "Column3    0.149521\n",
      "Name: C, dtype: float64\n"
     ]
    }
   ],
   "source": [
    "df=pd.DataFrame(randn(3,3),index=[\"A\",\"B\",\"C\"],columns=[\"Column1\",\"Column2\",\"Column3\"])\n",
    "\n",
    "result=df\n",
    "result=df[\"Column1\"]\n",
    "result=type(df[\"Column1\"])\n",
    "\n",
    "#loc[\"row\",\"column\"] => loc[\"row\"] => loc[\":\",\"column\"]\n",
    "result=df.loc[\"A\"]\n",
    "result=type(df.loc[\"A\"])\n",
    "result=df.iloc[2]\n",
    "\n",
    "\n",
    "print(result)"
   ]
  },
  {
   "cell_type": "code",
   "execution_count": 20,
   "metadata": {},
   "outputs": [
    {
     "name": "stdout",
     "output_type": "stream",
     "text": [
      "    Column1   Column2   Column3   Column4\n",
      "A  0.718984 -0.123640  0.791963 -1.251437\n",
      "B -0.784450  1.500050  0.943685  0.232894\n",
      "C -0.355104 -0.989418  0.149521 -1.104553\n"
     ]
    }
   ],
   "source": [
    "df[\"Column4\"]=pd.Series(randn(3),[\"A\",\"B\",\"C\"])\n",
    "df[\"Column5\"]=df[\"Column1\"]+df[\"Column3\"]\n",
    "\n",
    "df.drop(\"Column5\",axis=1,inplace=True)\n",
    "\n",
    "print(df)"
   ]
  },
  {
   "cell_type": "code",
   "execution_count": 27,
   "metadata": {},
   "outputs": [
    {
     "name": "stdout",
     "output_type": "stream",
     "text": [
      "    Column1  Column2  Column3  Column4  Column5\n",
      "0      True    False    False     True     True\n",
      "1     False     True     True     True     True\n",
      "2      True     True     True     True     True\n",
      "3     False    False    False     True    False\n",
      "4      True     True    False    False     True\n",
      "5      True    False     True     True    False\n",
      "6      True    False     True    False     True\n",
      "7     False     True     True     True    False\n",
      "8     False     True    False    False    False\n",
      "9      True    False     True    False    False\n",
      "10     True     True     True    False    False\n",
      "11     True    False     True    False     True\n",
      "12    False     True    False    False    False\n",
      "13    False     True    False    False    False\n",
      "14    False    False    False     True    False\n"
     ]
    }
   ],
   "source": [
    "data = np.random.randint(10, 100, 75).reshape(15, 5)\n",
    "df = pd.DataFrame(data, columns=[\"Column1\", \"Column2\", \"Column3\", \"Column4\", \"Column5\"])\n",
    "result = df.head()#ilk 5\n",
    "result = df.tail()#son 5\n",
    "result= df>50\n",
    "\n",
    "print(result)\n"
   ]
  }
 ],
 "metadata": {
  "kernelspec": {
   "display_name": "Python 3",
   "language": "python",
   "name": "python3"
  },
  "language_info": {
   "codemirror_mode": {
    "name": "ipython",
    "version": 3
   },
   "file_extension": ".py",
   "mimetype": "text/x-python",
   "name": "python",
   "nbconvert_exporter": "python",
   "pygments_lexer": "ipython3",
   "version": "3.9.6"
  }
 },
 "nbformat": 4,
 "nbformat_minor": 2
}
