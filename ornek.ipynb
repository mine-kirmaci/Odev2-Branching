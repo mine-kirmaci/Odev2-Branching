{
 "cells": [
  {
   "cell_type": "code",
   "execution_count": 2,
   "metadata": {},
   "outputs": [],
   "source": [
    "import pandas as pd\n",
    "df=pd.read_csv(\"IMDB_OMDB_Kaggle_TestSet_OMDB_Detailed.csv\")"
   ]
  },
  {
   "cell_type": "code",
   "execution_count": 3,
   "metadata": {},
   "outputs": [
    {
     "name": "stdout",
     "output_type": "stream",
     "text": [
      "Index(['Unnamed: 0', 'Title', 'Year', 'Rated', 'Released', 'Runtime', 'Genre',\n",
      "       'Director', 'Writer', 'Actors', 'Plot', 'Language', 'Country', 'Awards',\n",
      "       'Poster', 'Ratings.Source', 'Ratings.Value', 'Metascore', 'imdbRating',\n",
      "       'imdbVotes', 'imdbID', 'Type', 'tomatoMeter', 'tomatoImage',\n",
      "       'tomatoRating', 'tomatoReviews', 'tomatoFresh', 'tomatoRotten',\n",
      "       'tomatoConsensus', 'tomatoUserMeter', 'tomatoUserRating',\n",
      "       'tomatoUserReviews', 'tomatoURL', 'DVD', 'BoxOffice', 'Production',\n",
      "       'Website', 'Response'],\n",
      "      dtype='object')\n"
     ]
    }
   ],
   "source": [
    "print(df.columns)"
   ]
  },
  {
   "cell_type": "code",
   "execution_count": 4,
   "metadata": {},
   "outputs": [
    {
     "name": "stdout",
     "output_type": "stream",
     "text": [
      "   Unnamed: 0                                     Title  Year  Rated  \\\n",
      "0           1                                    Avatar  2009  PG-13   \n",
      "1           2  Pirates of the Caribbean: At World's End  2007  PG-13   \n",
      "2           3                                   Spectre  2015  PG-13   \n",
      "3           4                     The Dark Knight Rises  2012  PG-13   \n",
      "4           5                           The Lone Ranger  2013  PG-13   \n",
      "\n",
      "      Released  Runtime                        Genre           Director  \\\n",
      "0  18 Dec 2009  162 min   Action, Adventure, Fantasy      James Cameron   \n",
      "1  25 May 2007  169 min   Action, Adventure, Fantasy     Gore Verbinski   \n",
      "2  06 Nov 2015  148 min  Action, Adventure, Thriller         Sam Mendes   \n",
      "3  20 Jul 2012  164 min             Action, Thriller  Christopher Nolan   \n",
      "4  03 Jul 2013  150 min   Action, Adventure, Western     Gore Verbinski   \n",
      "\n",
      "                                              Writer  \\\n",
      "0                                      James Cameron   \n",
      "1  Ted Elliott, Terry Rossio, Ted Elliott (charac...   \n",
      "2  John Logan (screenplay), Neal Purvis (screenpl...   \n",
      "3  Jonathan Nolan (screenplay), Christopher Nolan...   \n",
      "4  Justin Haythe (screenplay), Ted Elliott (scree...   \n",
      "\n",
      "                                              Actors  ... tomatoConsensus  \\\n",
      "0  Sam Worthington, Zoe Saldana, Sigourney Weaver...  ...             NaN   \n",
      "1  Johnny Depp, Geoffrey Rush, Orlando Bloom, Kei...  ...             NaN   \n",
      "2  Daniel Craig, Christoph Waltz, Léa Seydoux, Ra...  ...             NaN   \n",
      "3  Christian Bale, Gary Oldman, Tom Hardy, Joseph...  ...             NaN   \n",
      "4  Johnny Depp, Armie Hammer, William Fichtner, T...  ...             NaN   \n",
      "\n",
      "  tomatoUserMeter tomatoUserRating tomatoUserReviews  \\\n",
      "0             NaN              NaN               NaN   \n",
      "1             NaN              NaN               NaN   \n",
      "2             NaN              NaN               NaN   \n",
      "3             NaN              NaN               NaN   \n",
      "4             NaN              NaN               NaN   \n",
      "\n",
      "                                           tomatoURL          DVD  \\\n",
      "0            http://www.rottentomatoes.com/m/avatar/  22 Apr 2010   \n",
      "1  http://www.rottentomatoes.com/m/pirates_of_the...  04 Dec 2007   \n",
      "2      http://www.rottentomatoes.com/m/spectre_2015/  09 Feb 2016   \n",
      "3  http://www.rottentomatoes.com/m/the_dark_knigh...  03 Dec 2012   \n",
      "4   http://www.rottentomatoes.com/m/the_lone_ranger/  17 Dec 2013   \n",
      "\n",
      "      BoxOffice             Production  \\\n",
      "0  $749,700,000       20th Century Fox   \n",
      "1  $309,404,152            Buena Vista   \n",
      "2  $208,777,731          Sony Pictures   \n",
      "3  $448,130,642  Warner Bros. Pictures   \n",
      "4   $89,289,910   Walt Disney Pictures   \n",
      "\n",
      "                                             Website Response  \n",
      "0                        http://www.avatarmovie.com/     True  \n",
      "1  http://disney.go.com/disneypictures/pirates/at...     True  \n",
      "2                                http://www.007.com/     True  \n",
      "3                 http://www.thedarkknightrises.com/     True  \n",
      "4              http://disney.go.com/the-lone-ranger/     True  \n",
      "\n",
      "[5 rows x 38 columns]\n"
     ]
    }
   ],
   "source": [
    "#ilk 5 kaydı gösterin\n",
    "result=df.head()\n",
    "print(result)"
   ]
  },
  {
   "cell_type": "code",
   "execution_count": 5,
   "metadata": {},
   "outputs": [
    {
     "name": "stdout",
     "output_type": "stream",
     "text": [
      "   Unnamed: 0                                     Title  Year  Rated  \\\n",
      "0           1                                    Avatar  2009  PG-13   \n",
      "1           2  Pirates of the Caribbean: At World's End  2007  PG-13   \n",
      "2           3                                   Spectre  2015  PG-13   \n",
      "3           4                     The Dark Knight Rises  2012  PG-13   \n",
      "4           5                           The Lone Ranger  2013  PG-13   \n",
      "5           6                               John Carter  2012  PG-13   \n",
      "6           7                                   Tangled  2010     PG   \n",
      "7           8                              Spider-Man 3  2007  PG-13   \n",
      "8           9                   Avengers: Age of Ultron  2015  PG-13   \n",
      "9          10                Captain America: Civil War  2016  PG-13   \n",
      "\n",
      "      Released  Runtime                         Genre  \\\n",
      "0  18 Dec 2009  162 min    Action, Adventure, Fantasy   \n",
      "1  25 May 2007  169 min    Action, Adventure, Fantasy   \n",
      "2  06 Nov 2015  148 min   Action, Adventure, Thriller   \n",
      "3  20 Jul 2012  164 min              Action, Thriller   \n",
      "4  03 Jul 2013  150 min    Action, Adventure, Western   \n",
      "5  09 Mar 2012  132 min     Action, Adventure, Sci-Fi   \n",
      "6  24 Nov 2010  100 min  Animation, Adventure, Comedy   \n",
      "7  04 May 2007  139 min             Action, Adventure   \n",
      "8  01 May 2015  141 min     Action, Adventure, Sci-Fi   \n",
      "9  06 May 2016  147 min     Action, Adventure, Sci-Fi   \n",
      "\n",
      "                     Director  \\\n",
      "0               James Cameron   \n",
      "1              Gore Verbinski   \n",
      "2                  Sam Mendes   \n",
      "3           Christopher Nolan   \n",
      "4              Gore Verbinski   \n",
      "5              Andrew Stanton   \n",
      "6  Nathan Greno, Byron Howard   \n",
      "7                   Sam Raimi   \n",
      "8                 Joss Whedon   \n",
      "9    Anthony Russo, Joe Russo   \n",
      "\n",
      "                                              Writer  \\\n",
      "0                                      James Cameron   \n",
      "1  Ted Elliott, Terry Rossio, Ted Elliott (charac...   \n",
      "2  John Logan (screenplay), Neal Purvis (screenpl...   \n",
      "3  Jonathan Nolan (screenplay), Christopher Nolan...   \n",
      "4  Justin Haythe (screenplay), Ted Elliott (scree...   \n",
      "5  Andrew Stanton (screenplay), Mark Andrews (scr...   \n",
      "6  Dan Fogelman (screenplay), Jacob Grimm (based ...   \n",
      "7  Sam Raimi (screenplay), Ivan Raimi (screenplay...   \n",
      "8  Joss Whedon, Stan Lee (based on the Marvel com...   \n",
      "9  Christopher Markus (screenplay), Stephen McFee...   \n",
      "\n",
      "                                              Actors  ... tomatoConsensus  \\\n",
      "0  Sam Worthington, Zoe Saldana, Sigourney Weaver...  ...             NaN   \n",
      "1  Johnny Depp, Geoffrey Rush, Orlando Bloom, Kei...  ...             NaN   \n",
      "2  Daniel Craig, Christoph Waltz, Léa Seydoux, Ra...  ...             NaN   \n",
      "3  Christian Bale, Gary Oldman, Tom Hardy, Joseph...  ...             NaN   \n",
      "4  Johnny Depp, Armie Hammer, William Fichtner, T...  ...             NaN   \n",
      "5  Taylor Kitsch, Lynn Collins, Samantha Morton, ...  ...             NaN   \n",
      "6  Mandy Moore, Zachary Levi, Donna Murphy, Ron P...  ...             NaN   \n",
      "7  Tobey Maguire, Kirsten Dunst, James Franco, Th...  ...             NaN   \n",
      "8  Robert Downey Jr., Chris Hemsworth, Mark Ruffa...  ...             NaN   \n",
      "9  Chris Evans, Robert Downey Jr., Scarlett Johan...  ...             NaN   \n",
      "\n",
      "  tomatoUserMeter tomatoUserRating tomatoUserReviews  \\\n",
      "0             NaN              NaN               NaN   \n",
      "1             NaN              NaN               NaN   \n",
      "2             NaN              NaN               NaN   \n",
      "3             NaN              NaN               NaN   \n",
      "4             NaN              NaN               NaN   \n",
      "5             NaN              NaN               NaN   \n",
      "6             NaN              NaN               NaN   \n",
      "7             NaN              NaN               NaN   \n",
      "8             NaN              NaN               NaN   \n",
      "9             NaN              NaN               NaN   \n",
      "\n",
      "                                           tomatoURL          DVD  \\\n",
      "0            http://www.rottentomatoes.com/m/avatar/  22 Apr 2010   \n",
      "1  http://www.rottentomatoes.com/m/pirates_of_the...  04 Dec 2007   \n",
      "2      http://www.rottentomatoes.com/m/spectre_2015/  09 Feb 2016   \n",
      "3  http://www.rottentomatoes.com/m/the_dark_knigh...  03 Dec 2012   \n",
      "4   http://www.rottentomatoes.com/m/the_lone_ranger/  17 Dec 2013   \n",
      "5       http://www.rottentomatoes.com/m/john_carter/  05 Jun 2012   \n",
      "6           http://www.rottentomatoes.com/m/tangled/  29 Mar 2011   \n",
      "7       http://www.rottentomatoes.com/m/spiderman_3/  30 Oct 2007   \n",
      "8  http://www.rottentomatoes.com/m/avengers_age_o...  02 Oct 2015   \n",
      "9  http://www.rottentomatoes.com/m/captain_americ...  13 Sep 2016   \n",
      "\n",
      "      BoxOffice             Production  \\\n",
      "0  $749,700,000       20th Century Fox   \n",
      "1  $309,404,152            Buena Vista   \n",
      "2  $208,777,731          Sony Pictures   \n",
      "3  $448,130,642  Warner Bros. Pictures   \n",
      "4   $89,289,910   Walt Disney Pictures   \n",
      "5   $73,058,679   Walt Disney Pictures   \n",
      "6  $200,803,309   Walt Disney Pictures   \n",
      "7  $336,530,303          Sony Pictures   \n",
      "8  $429,113,729   Walt Disney Pictures   \n",
      "9  $408,080,554   Walt Disney Pictures   \n",
      "\n",
      "                                             Website Response  \n",
      "0                        http://www.avatarmovie.com/     True  \n",
      "1  http://disney.go.com/disneypictures/pirates/at...     True  \n",
      "2                                http://www.007.com/     True  \n",
      "3                 http://www.thedarkknightrises.com/     True  \n",
      "4              http://disney.go.com/the-lone-ranger/     True  \n",
      "5                   http://www.johncarterarrives.com     True  \n",
      "6                          http://Disney.com/Tangled     True  \n",
      "7  http://www.sonypictures.com/movies/spiderman3/...     True  \n",
      "8                         http://marvel.com/avengers     True  \n",
      "9             http://marvel.com/captainamerica#/home     True  \n",
      "\n",
      "[10 rows x 38 columns]\n"
     ]
    }
   ],
   "source": [
    "#ilk 10 kayıt\n",
    "result=df.head(10)\n",
    "print(result)"
   ]
  },
  {
   "cell_type": "code",
   "execution_count": 6,
   "metadata": {},
   "outputs": [
    {
     "name": "stdout",
     "output_type": "stream",
     "text": [
      "    Unnamed: 0                                       Title  Year  Rated  \\\n",
      "19          20  Pirates of the Caribbean: Dead Man's Chest  2006  PG-13   \n",
      "20          21                                Man of Steel  2013  PG-13   \n",
      "21          22    The Chronicles of Narnia: Prince Caspian  2008     PG   \n",
      "22          23                      The Amazing Spider-Man  2012  PG-13   \n",
      "23          24                              Jurassic World  2015  PG-13   \n",
      "\n",
      "       Released  Runtime                       Genre         Director  \\\n",
      "19  07 Jul 2006  151 min  Action, Adventure, Fantasy   Gore Verbinski   \n",
      "20  14 Jun 2013  143 min  Action, Adventure, Fantasy      Zack Snyder   \n",
      "21  16 May 2008  150 min   Action, Adventure, Family   Andrew Adamson   \n",
      "22  03 Jul 2012  136 min           Action, Adventure        Marc Webb   \n",
      "23  12 Jun 2015  124 min   Action, Adventure, Sci-Fi  Colin Trevorrow   \n",
      "\n",
      "                                               Writer  \\\n",
      "19  Ted Elliott, Terry Rossio, Ted Elliott (charac...   \n",
      "20  David S. Goyer (screenplay), David S. Goyer (s...   \n",
      "21  Andrew Adamson (screenplay), Christopher Marku...   \n",
      "22  James Vanderbilt (screenplay), Alvin Sargent (...   \n",
      "23  Rick Jaffa (screenplay), Amanda Silver (screen...   \n",
      "\n",
      "                                               Actors  ... tomatoConsensus  \\\n",
      "19  Johnny Depp, Orlando Bloom, Keira Knightley, J...  ...             NaN   \n",
      "20  Henry Cavill, Amy Adams, Michael Shannon, Dian...  ...             NaN   \n",
      "21  Ben Barnes, Georgie Henley, Skandar Keynes, Wi...  ...             NaN   \n",
      "22  Andrew Garfield, Emma Stone, Rhys Ifans, Denis...  ...             NaN   \n",
      "23  Chris Pratt, Bryce Dallas Howard, Irrfan Khan,...  ...             NaN   \n",
      "\n",
      "   tomatoUserMeter tomatoUserRating tomatoUserReviews  \\\n",
      "19             NaN              NaN               NaN   \n",
      "20             NaN              NaN               NaN   \n",
      "21             NaN              NaN               NaN   \n",
      "22             NaN              NaN               NaN   \n",
      "23             NaN              NaN               NaN   \n",
      "\n",
      "                                            tomatoURL          DVD  \\\n",
      "19  http://www.rottentomatoes.com/m/pirates_of_the...  05 Dec 2006   \n",
      "20  http://www.rottentomatoes.com/m/superman_man_o...  12 Nov 2013   \n",
      "21  http://www.rottentomatoes.com/m/chronicles_of_...  02 Dec 2008   \n",
      "22  http://www.rottentomatoes.com/m/the_amazing_sp...  09 Nov 2012   \n",
      "23    http://www.rottentomatoes.com/m/jurassic_world/  20 Oct 2015   \n",
      "\n",
      "       BoxOffice             Production  \\\n",
      "19  $423,032,628            Buena Vista   \n",
      "20  $291,021,565  Warner Bros. Pictures   \n",
      "21  $141,614,023   Walt Disney Pictures   \n",
      "22  $262,030,663          Sony Pictures   \n",
      "23  $528,757,749     Universal Pictures   \n",
      "\n",
      "                                     Website Response  \n",
      "19                 http://pirates.movies.com     True  \n",
      "20          http://manofsteel.warnerbros.com     True  \n",
      "21                        http://narnia.com/     True  \n",
      "22  http://www.theamazingspiderman.com/site/     True  \n",
      "23        http://www.jurassicworldmovie.com/     True  \n",
      "\n",
      "[5 rows x 38 columns]\n"
     ]
    }
   ],
   "source": [
    "#son 5 kayıt\n",
    "result=df.tail()\n",
    "print(result)"
   ]
  },
  {
   "cell_type": "code",
   "execution_count": 7,
   "metadata": {},
   "outputs": [
    {
     "name": "stdout",
     "output_type": "stream",
     "text": [
      "    Unnamed: 0                                        Title  Year  Rated  \\\n",
      "14          15    The Hobbit: The Battle of the Five Armies  2014  PG-13   \n",
      "15          16  Pirates of the Caribbean: On Stranger Tides  2011  PG-13   \n",
      "16          17                             Superman Returns  2006  PG-13   \n",
      "17          18                            Quantum of Solace  2008  PG-13   \n",
      "18          19                                 The Avengers  2012  PG-13   \n",
      "19          20   Pirates of the Caribbean: Dead Man's Chest  2006  PG-13   \n",
      "20          21                                 Man of Steel  2013  PG-13   \n",
      "21          22     The Chronicles of Narnia: Prince Caspian  2008     PG   \n",
      "22          23                       The Amazing Spider-Man  2012  PG-13   \n",
      "23          24                               Jurassic World  2015  PG-13   \n",
      "\n",
      "       Released  Runtime                        Genre         Director  \\\n",
      "14  17 Dec 2014  144 min           Adventure, Fantasy    Peter Jackson   \n",
      "15  20 May 2011  136 min   Action, Adventure, Fantasy     Rob Marshall   \n",
      "16  28 Jun 2006  154 min    Action, Adventure, Sci-Fi     Bryan Singer   \n",
      "17  14 Nov 2008  106 min  Action, Adventure, Thriller     Marc Forster   \n",
      "18  04 May 2012  143 min               Action, Sci-Fi      Joss Whedon   \n",
      "19  07 Jul 2006  151 min   Action, Adventure, Fantasy   Gore Verbinski   \n",
      "20  14 Jun 2013  143 min   Action, Adventure, Fantasy      Zack Snyder   \n",
      "21  16 May 2008  150 min    Action, Adventure, Family   Andrew Adamson   \n",
      "22  03 Jul 2012  136 min            Action, Adventure        Marc Webb   \n",
      "23  12 Jun 2015  124 min    Action, Adventure, Sci-Fi  Colin Trevorrow   \n",
      "\n",
      "                                               Writer  \\\n",
      "14  Fran Walsh (screenplay), Philippa Boyens (scre...   \n",
      "15  Ted Elliott (screenplay), Terry Rossio (screen...   \n",
      "16  Michael Dougherty (screenplay), Dan Harris (sc...   \n",
      "17              Paul Haggis, Neal Purvis, Robert Wade   \n",
      "18  Joss Whedon (screenplay), Zak Penn (story), Jo...   \n",
      "19  Ted Elliott, Terry Rossio, Ted Elliott (charac...   \n",
      "20  David S. Goyer (screenplay), David S. Goyer (s...   \n",
      "21  Andrew Adamson (screenplay), Christopher Marku...   \n",
      "22  James Vanderbilt (screenplay), Alvin Sargent (...   \n",
      "23  Rick Jaffa (screenplay), Amanda Silver (screen...   \n",
      "\n",
      "                                               Actors  ... tomatoConsensus  \\\n",
      "14  Ian McKellen, Martin Freeman, Richard Armitage...  ...             NaN   \n",
      "15  Johnny Depp, Penélope Cruz, Geoffrey Rush, Ian...  ...             NaN   \n",
      "16  Brandon Routh, Kate Bosworth, Kevin Spacey, Ja...  ...             NaN   \n",
      "17  Daniel Craig, Olga Kurylenko, Mathieu Amalric,...  ...             NaN   \n",
      "18  Robert Downey Jr., Chris Evans, Mark Ruffalo, ...  ...             NaN   \n",
      "19  Johnny Depp, Orlando Bloom, Keira Knightley, J...  ...             NaN   \n",
      "20  Henry Cavill, Amy Adams, Michael Shannon, Dian...  ...             NaN   \n",
      "21  Ben Barnes, Georgie Henley, Skandar Keynes, Wi...  ...             NaN   \n",
      "22  Andrew Garfield, Emma Stone, Rhys Ifans, Denis...  ...             NaN   \n",
      "23  Chris Pratt, Bryce Dallas Howard, Irrfan Khan,...  ...             NaN   \n",
      "\n",
      "   tomatoUserMeter tomatoUserRating tomatoUserReviews  \\\n",
      "14             NaN              NaN               NaN   \n",
      "15             NaN              NaN               NaN   \n",
      "16             NaN              NaN               NaN   \n",
      "17             NaN              NaN               NaN   \n",
      "18             NaN              NaN               NaN   \n",
      "19             NaN              NaN               NaN   \n",
      "20             NaN              NaN               NaN   \n",
      "21             NaN              NaN               NaN   \n",
      "22             NaN              NaN               NaN   \n",
      "23             NaN              NaN               NaN   \n",
      "\n",
      "                                            tomatoURL          DVD  \\\n",
      "14  http://www.rottentomatoes.com/m/the_hobbit_the...  24 Mar 2015   \n",
      "15  http://www.rottentomatoes.com/m/pirates_of_the...  18 Oct 2011   \n",
      "16  http://www.rottentomatoes.com/m/superman_returns/  28 Nov 2006   \n",
      "17  http://www.rottentomatoes.com/m/quantum_of_sol...  24 Mar 2009   \n",
      "18  http://www.rottentomatoes.com/m/marvels_the_av...  25 Sep 2012   \n",
      "19  http://www.rottentomatoes.com/m/pirates_of_the...  05 Dec 2006   \n",
      "20  http://www.rottentomatoes.com/m/superman_man_o...  12 Nov 2013   \n",
      "21  http://www.rottentomatoes.com/m/chronicles_of_...  02 Dec 2008   \n",
      "22  http://www.rottentomatoes.com/m/the_amazing_sp...  09 Nov 2012   \n",
      "23    http://www.rottentomatoes.com/m/jurassic_world/  20 Oct 2015   \n",
      "\n",
      "       BoxOffice             Production  \\\n",
      "14  $187,747,747           Warner Bros.   \n",
      "15  $241,063,875   Walt Disney Pictures   \n",
      "16  $200,100,000  Warner Bros. Pictures   \n",
      "17  $168,400,000               Sony/MGM   \n",
      "18  $623,279,547   Walt Disney Pictures   \n",
      "19  $423,032,628            Buena Vista   \n",
      "20  $291,021,565  Warner Bros. Pictures   \n",
      "21  $141,614,023   Walt Disney Pictures   \n",
      "22  $262,030,663          Sony Pictures   \n",
      "23  $528,757,749     Universal Pictures   \n",
      "\n",
      "                                     Website Response  \n",
      "14                 http://www.thehobbit.com/     True  \n",
      "15                 http://Disney.com/Pirates     True  \n",
      "16           http://www.supermanreturns.com/     True  \n",
      "17                       http://www.007.com/     True  \n",
      "18          http://marvel.com/avengers_movie     True  \n",
      "19                 http://pirates.movies.com     True  \n",
      "20          http://manofsteel.warnerbros.com     True  \n",
      "21                        http://narnia.com/     True  \n",
      "22  http://www.theamazingspiderman.com/site/     True  \n",
      "23        http://www.jurassicworldmovie.com/     True  \n",
      "\n",
      "[10 rows x 38 columns]\n"
     ]
    }
   ],
   "source": [
    "#son 10 kayıt\n",
    "result=df.tail(10)\n",
    "print(result)"
   ]
  },
  {
   "cell_type": "code",
   "execution_count": 8,
   "metadata": {},
   "outputs": [
    {
     "name": "stdout",
     "output_type": "stream",
     "text": [
      "0                                          Avatar\n",
      "1        Pirates of the Caribbean: At World's End\n",
      "2                                         Spectre\n",
      "3                           The Dark Knight Rises\n",
      "4                                 The Lone Ranger\n",
      "5                                     John Carter\n",
      "6                                         Tangled\n",
      "7                                    Spider-Man 3\n",
      "8                         Avengers: Age of Ultron\n",
      "9                      Captain America: Civil War\n",
      "10             Batman v Superman: Dawn of Justice\n",
      "11              The Hobbit: An Unexpected Journey\n",
      "12         Harry Potter and the Half-Blood Prince\n",
      "13            The Hobbit: The Desolation of Smaug\n",
      "14      The Hobbit: The Battle of the Five Armies\n",
      "15    Pirates of the Caribbean: On Stranger Tides\n",
      "16                               Superman Returns\n",
      "17                              Quantum of Solace\n",
      "18                                   The Avengers\n",
      "19     Pirates of the Caribbean: Dead Man's Chest\n",
      "20                                   Man of Steel\n",
      "21       The Chronicles of Narnia: Prince Caspian\n",
      "22                         The Amazing Spider-Man\n",
      "23                                 Jurassic World\n",
      "Name: Title, dtype: object\n"
     ]
    }
   ],
   "source": [
    "#Sadece Title kolonunu alın\n",
    "result=df[\"Title\"]\n",
    "print(result)"
   ]
  },
  {
   "cell_type": "code",
   "execution_count": 9,
   "metadata": {},
   "outputs": [
    {
     "name": "stdout",
     "output_type": "stream",
     "text": [
      "0                                      Avatar\n",
      "1    Pirates of the Caribbean: At World's End\n",
      "2                                     Spectre\n",
      "3                       The Dark Knight Rises\n",
      "4                             The Lone Ranger\n",
      "Name: Title, dtype: object\n"
     ]
    }
   ],
   "source": [
    "#Sadece Title kolonunu içeren ilk 5 kaydı al \n",
    "result=df[\"Title\"].head()\n",
    "print(result)"
   ]
  },
  {
   "cell_type": "code",
   "execution_count": 10,
   "metadata": {},
   "outputs": [
    {
     "name": "stdout",
     "output_type": "stream",
     "text": [
      "                                      Title  Year\n",
      "0                                    Avatar  2009\n",
      "1  Pirates of the Caribbean: At World's End  2007\n",
      "2                                   Spectre  2015\n",
      "3                     The Dark Knight Rises  2012\n",
      "4                           The Lone Ranger  2013\n"
     ]
    }
   ],
   "source": [
    "#Title ve Year kolonunu içeren ilk 5 kaydını alın\n",
    "result=df[[\"Title\",\"Year\"]].head()\n",
    "print(result)"
   ]
  },
  {
   "cell_type": "code",
   "execution_count": 11,
   "metadata": {},
   "outputs": [
    {
     "name": "stdout",
     "output_type": "stream",
     "text": [
      "                                         Title  Year\n",
      "17                           Quantum of Solace  2008\n",
      "18                                The Avengers  2012\n",
      "19  Pirates of the Caribbean: Dead Man's Chest  2006\n",
      "20                                Man of Steel  2013\n",
      "21    The Chronicles of Narnia: Prince Caspian  2008\n",
      "22                      The Amazing Spider-Man  2012\n",
      "23                              Jurassic World  2015\n"
     ]
    }
   ],
   "source": [
    "#Title ve Year kolonunu içeren son 7 kaydını alın\n",
    "result=df[[\"Title\",\"Year\"]].tail(7)\n",
    "print(result)"
   ]
  },
  {
   "cell_type": "code",
   "execution_count": 12,
   "metadata": {},
   "outputs": [
    {
     "name": "stdout",
     "output_type": "stream",
     "text": [
      "                        Title  Year\n",
      "5                 John Carter  2012\n",
      "6                     Tangled  2010\n",
      "7                Spider-Man 3  2007\n",
      "8     Avengers: Age of Ultron  2015\n",
      "9  Captain America: Civil War  2016\n"
     ]
    }
   ],
   "source": [
    "#Title ve year kolonunu içeren ikinci 5 kaydı al\n",
    "result=df[5:20][[\"Title\",\"Year\"]].head()\n",
    "print(result)"
   ]
  },
  {
   "cell_type": "code",
   "execution_count": 13,
   "metadata": {},
   "outputs": [
    {
     "name": "stdout",
     "output_type": "stream",
     "text": [
      "                    Title  Year\n",
      "3   The Dark Knight Rises  2012\n",
      "18           The Avengers  2012\n"
     ]
    }
   ],
   "source": [
    "#Title ve year kolonunu içeren ve imdb puanı 8.0 dan büyük olan kayıtlardan ilk 50 yi getir\n",
    "df[\"imdbRating\"] = pd.to_numeric(df[\"imdbRating\"], errors=\"coerce\")\n",
    "result=df[df[\"imdbRating\"]>8.0][[\"Title\",\"Year\"]].head(50)\n",
    "print(result)\n",
    "\n"
   ]
  },
  {
   "cell_type": "code",
   "execution_count": 14,
   "metadata": {},
   "outputs": [
    {
     "name": "stdout",
     "output_type": "stream",
     "text": [
      "    Unnamed: 0                                      Title  Year  Rated  \\\n",
      "2            3                                    Spectre  2015  PG-13   \n",
      "8            9                    Avengers: Age of Ultron  2015  PG-13   \n",
      "14          15  The Hobbit: The Battle of the Five Armies  2014  PG-13   \n",
      "23          24                             Jurassic World  2015  PG-13   \n",
      "\n",
      "       Released  Runtime                        Genre         Director  \\\n",
      "2   06 Nov 2015  148 min  Action, Adventure, Thriller       Sam Mendes   \n",
      "8   01 May 2015  141 min    Action, Adventure, Sci-Fi      Joss Whedon   \n",
      "14  17 Dec 2014  144 min           Adventure, Fantasy    Peter Jackson   \n",
      "23  12 Jun 2015  124 min    Action, Adventure, Sci-Fi  Colin Trevorrow   \n",
      "\n",
      "                                               Writer  \\\n",
      "2   John Logan (screenplay), Neal Purvis (screenpl...   \n",
      "8   Joss Whedon, Stan Lee (based on the Marvel com...   \n",
      "14  Fran Walsh (screenplay), Philippa Boyens (scre...   \n",
      "23  Rick Jaffa (screenplay), Amanda Silver (screen...   \n",
      "\n",
      "                                               Actors  ... tomatoConsensus  \\\n",
      "2   Daniel Craig, Christoph Waltz, Léa Seydoux, Ra...  ...             NaN   \n",
      "8   Robert Downey Jr., Chris Hemsworth, Mark Ruffa...  ...             NaN   \n",
      "14  Ian McKellen, Martin Freeman, Richard Armitage...  ...             NaN   \n",
      "23  Chris Pratt, Bryce Dallas Howard, Irrfan Khan,...  ...             NaN   \n",
      "\n",
      "   tomatoUserMeter tomatoUserRating tomatoUserReviews  \\\n",
      "2              NaN              NaN               NaN   \n",
      "8              NaN              NaN               NaN   \n",
      "14             NaN              NaN               NaN   \n",
      "23             NaN              NaN               NaN   \n",
      "\n",
      "                                            tomatoURL          DVD  \\\n",
      "2       http://www.rottentomatoes.com/m/spectre_2015/  09 Feb 2016   \n",
      "8   http://www.rottentomatoes.com/m/avengers_age_o...  02 Oct 2015   \n",
      "14  http://www.rottentomatoes.com/m/the_hobbit_the...  24 Mar 2015   \n",
      "23    http://www.rottentomatoes.com/m/jurassic_world/  20 Oct 2015   \n",
      "\n",
      "       BoxOffice            Production                             Website  \\\n",
      "2   $208,777,731         Sony Pictures                 http://www.007.com/   \n",
      "8   $429,113,729  Walt Disney Pictures          http://marvel.com/avengers   \n",
      "14  $187,747,747          Warner Bros.           http://www.thehobbit.com/   \n",
      "23  $528,757,749    Universal Pictures  http://www.jurassicworldmovie.com/   \n",
      "\n",
      "   Response  \n",
      "2      True  \n",
      "8      True  \n",
      "14     True  \n",
      "23     True  \n",
      "\n",
      "[4 rows x 38 columns]\n"
     ]
    }
   ],
   "source": [
    "#Yayın tarihi 2014 ve 2015 arası olan filmleri listele\n",
    "df[\"Year\"] = pd.to_numeric(df[\"Year\"], errors=\"coerce\")\n",
    "result = df[(df[\"Year\"] >= 2014) & (df[\"Year\"] <= 2015)]\n",
    "print(result)"
   ]
  },
  {
   "cell_type": "code",
   "execution_count": 15,
   "metadata": {},
   "outputs": [
    {
     "name": "stdout",
     "output_type": "stream",
     "text": [
      "0                                          Avatar\n",
      "1        Pirates of the Caribbean: At World's End\n",
      "2                                         Spectre\n",
      "3                           The Dark Knight Rises\n",
      "4                                 The Lone Ranger\n",
      "5                                     John Carter\n",
      "6                                         Tangled\n",
      "7                                    Spider-Man 3\n",
      "8                         Avengers: Age of Ultron\n",
      "9                      Captain America: Civil War\n",
      "10             Batman v Superman: Dawn of Justice\n",
      "11              The Hobbit: An Unexpected Journey\n",
      "12         Harry Potter and the Half-Blood Prince\n",
      "13            The Hobbit: The Desolation of Smaug\n",
      "14      The Hobbit: The Battle of the Five Armies\n",
      "15    Pirates of the Caribbean: On Stranger Tides\n",
      "16                               Superman Returns\n",
      "17                              Quantum of Solace\n",
      "18                                   The Avengers\n",
      "19     Pirates of the Caribbean: Dead Man's Chest\n",
      "20                                   Man of Steel\n",
      "21       The Chronicles of Narnia: Prince Caspian\n",
      "22                         The Amazing Spider-Man\n",
      "23                                 Jurassic World\n",
      "Name: Title, dtype: object\n"
     ]
    }
   ],
   "source": [
    "#değerlendirme sayısı 100.000 den büyük ya da imdb puanı 8-9 arasında olan filmlerin ismini listele\n",
    "# imdbRating sütununu sayıya çevir\n",
    "df[\"imdbRating\"] = pd.to_numeric(df[\"imdbRating\"], errors=\"coerce\")\n",
    "# imdbVotes sütununun veri tipini kontrol et\n",
    "if df[\"imdbVotes\"].dtype == 'O':  # Eğer object (string) tipindeyse\n",
    "    df[\"imdbVotes\"] = df[\"imdbVotes\"].str.replace(',', '', regex=True).astype(float)\n",
    "else:\n",
    "    df[\"imdbVotes\"] = df[\"imdbVotes\"].astype(float)  # Zaten sayıysa doğrudan float yap\n",
    "\n",
    "# IMDb oy sayısı 100,000'den büyük veya IMDb puanı 8 ile 9 arasında olan filmleri getir\n",
    "result = df[(df[\"imdbVotes\"] > 100000) | ((df[\"imdbRating\"] >= 8) & (df[\"imdbRating\"] <= 9))][\"Title\"]\n",
    "\n",
    "print(result)\n"
   ]
  },
  {
   "cell_type": "code",
   "execution_count": 16,
   "metadata": {},
   "outputs": [
    {
     "name": "stdout",
     "output_type": "stream",
     "text": [
      "         Calisan         Departman  Yas     Semt   Maas\n",
      "0   Ahmet Yılmaz  İnsan Kaynakları   30  Kadıköy  15000\n",
      "1     Can Ertürk       Bilgi İşlem   25    Tuzla  18000\n",
      "2  Hasan Korkmaz          Muhasebe   45  Maltepe  22000\n",
      "3    Cenk Saymaz  İnsan Kaynakları   50    Tuzla  17000\n",
      "4      Ali Demir         Pazarlama   23  Maltepe  14000\n"
     ]
    }
   ],
   "source": [
    "import pandas as pd\n",
    "\n",
    "veri = {\n",
    "    'Calisan': ['Ahmet Yılmaz', 'Can Ertürk', 'Hasan Korkmaz', 'Cenk Saymaz', 'Ali Demir'],\n",
    "    'Departman': ['İnsan Kaynakları', 'Bilgi İşlem', 'Muhasebe', 'İnsan Kaynakları', 'Pazarlama'],\n",
    "    'Yas': [30, 25, 45, 50, 23],\n",
    "    'Semt': ['Kadıköy', 'Tuzla', 'Maltepe', 'Tuzla', 'Maltepe'],\n",
    "    'Maas': [15000, 18000, 22000, 17000, 14000] \n",
    "}\n",
    "\n",
    "df = pd.DataFrame(veri)\n",
    "\n",
    "print(df)\n"
   ]
  },
  {
   "cell_type": "code",
   "execution_count": 18,
   "metadata": {},
   "outputs": [
    {
     "name": "stdout",
     "output_type": "stream",
     "text": [
      "86000\n"
     ]
    }
   ],
   "source": [
    "result=df[\"Maas\"].sum()\n",
    "print(result)"
   ]
  },
  {
   "cell_type": "code",
   "execution_count": 20,
   "metadata": {},
   "outputs": [
    {
     "name": "stdout",
     "output_type": "stream",
     "text": [
      "<bound method Series.groupby of 0    İnsan Kaynakları\n",
      "1         Bilgi İşlem\n",
      "2            Muhasebe\n",
      "3    İnsan Kaynakları\n",
      "4           Pazarlama\n",
      "Name: Departman, dtype: object>\n"
     ]
    }
   ],
   "source": [
    "result=df[\"Departman\"].groupby\n",
    "print(result)"
   ]
  },
  {
   "cell_type": "code",
   "execution_count": 23,
   "metadata": {},
   "outputs": [
    {
     "name": "stdout",
     "output_type": "stream",
     "text": [
      "         Calisan  Departman  Yas     Semt   Maas\n",
      "2  Hasan Korkmaz   Muhasebe   45  Maltepe  22000\n",
      "4      Ali Demir  Pazarlama   23  Maltepe  14000\n"
     ]
    }
   ],
   "source": [
    "result=df.groupby(\"Semt\").get_group(\"Maltepe\")\n",
    "print(result)"
   ]
  },
  {
   "cell_type": "code",
   "execution_count": 28,
   "metadata": {},
   "outputs": [
    {
     "name": "stdout",
     "output_type": "stream",
     "text": [
      "                  Yas   Maas\n",
      "Departman                   \n",
      "Bilgi İşlem        25  18000\n",
      "Muhasebe           45  22000\n",
      "Pazarlama          23  14000\n",
      "İnsan Kaynakları   80  32000\n"
     ]
    }
   ],
   "source": [
    "result=df.groupby(\"Departman\").sum(\"Maas\")\n",
    "print(result)"
   ]
  },
  {
   "cell_type": "code",
   "execution_count": 29,
   "metadata": {},
   "outputs": [
    {
     "name": "stdout",
     "output_type": "stream",
     "text": [
      "Semt\n",
      "Kadıköy    30.0\n",
      "Maltepe    34.0\n",
      "Tuzla      37.5\n",
      "Name: Yas, dtype: float64\n"
     ]
    }
   ],
   "source": [
    "result=df.groupby(\"Semt\")[\"Yas\"].mean()\n",
    "print(result)"
   ]
  },
  {
   "cell_type": "code",
   "execution_count": 30,
   "metadata": {},
   "outputs": [
    {
     "name": "stdout",
     "output_type": "stream",
     "text": [
      "Departman\n",
      "Bilgi İşlem         1\n",
      "Muhasebe            1\n",
      "Pazarlama           1\n",
      "İnsan Kaynakları    2\n",
      "Name: Calisan, dtype: int64\n"
     ]
    }
   ],
   "source": [
    "result=df.groupby(\"Departman\")[\"Calisan\"].count()\n",
    "print(result)"
   ]
  },
  {
   "cell_type": "code",
   "execution_count": 31,
   "metadata": {},
   "outputs": [
    {
     "name": "stdout",
     "output_type": "stream",
     "text": [
      "Departman\n",
      "Bilgi İşlem         25\n",
      "Muhasebe            45\n",
      "Pazarlama           23\n",
      "İnsan Kaynakları    50\n",
      "Name: Yas, dtype: int64\n"
     ]
    }
   ],
   "source": [
    "result=df.groupby(\"Departman\")[\"Yas\"].max()\n",
    "print(result)"
   ]
  },
  {
   "cell_type": "code",
   "execution_count": 36,
   "metadata": {},
   "outputs": [],
   "source": [
    "import numpy as np"
   ]
  },
  {
   "cell_type": "code",
   "execution_count": null,
   "metadata": {},
   "outputs": [],
   "source": [
    "result=df.groupby(\"Departman\").agg(np.mean)\n",
    "print(result)\n"
   ]
  },
  {
   "cell_type": "code",
   "execution_count": 38,
   "metadata": {},
   "outputs": [
    {
     "name": "stdout",
     "output_type": "stream",
     "text": [
      "                     mean    sum    max    min\n",
      "Departman                                     \n",
      "Bilgi İşlem       18000.0  18000  18000  18000\n",
      "Muhasebe          22000.0  22000  22000  22000\n",
      "Pazarlama         14000.0  14000  14000  14000\n",
      "İnsan Kaynakları  16000.0  32000  17000  15000\n"
     ]
    },
    {
     "name": "stderr",
     "output_type": "stream",
     "text": [
      "/var/folders/vl/1hp7pghs52l64byvslzym3b00000gn/T/ipykernel_3792/3991008765.py:1: FutureWarning: The provided callable <function mean at 0x105c8c820> is currently using SeriesGroupBy.mean. In a future version of pandas, the provided callable will be used directly. To keep current behavior pass the string \"mean\" instead.\n",
      "  result=df.groupby(\"Departman\")[\"Maas\"].agg([np.mean,np.sum,np.max,np.min])\n",
      "/var/folders/vl/1hp7pghs52l64byvslzym3b00000gn/T/ipykernel_3792/3991008765.py:1: FutureWarning: The provided callable <function sum at 0x105c888b0> is currently using SeriesGroupBy.sum. In a future version of pandas, the provided callable will be used directly. To keep current behavior pass the string \"sum\" instead.\n",
      "  result=df.groupby(\"Departman\")[\"Maas\"].agg([np.mean,np.sum,np.max,np.min])\n",
      "/var/folders/vl/1hp7pghs52l64byvslzym3b00000gn/T/ipykernel_3792/3991008765.py:1: FutureWarning: The provided callable <function max at 0x105c88ee0> is currently using SeriesGroupBy.max. In a future version of pandas, the provided callable will be used directly. To keep current behavior pass the string \"max\" instead.\n",
      "  result=df.groupby(\"Departman\")[\"Maas\"].agg([np.mean,np.sum,np.max,np.min])\n",
      "/var/folders/vl/1hp7pghs52l64byvslzym3b00000gn/T/ipykernel_3792/3991008765.py:1: FutureWarning: The provided callable <function min at 0x105c8c040> is currently using SeriesGroupBy.min. In a future version of pandas, the provided callable will be used directly. To keep current behavior pass the string \"min\" instead.\n",
      "  result=df.groupby(\"Departman\")[\"Maas\"].agg([np.mean,np.sum,np.max,np.min])\n"
     ]
    }
   ],
   "source": [
    "result=df.groupby(\"Departman\")[\"Maas\"].agg([np.mean,np.sum,np.max,np.min])\n",
    "print(result)\n"
   ]
  }
 ],
 "metadata": {
  "kernelspec": {
   "display_name": "Python 3",
   "language": "python",
   "name": "python3"
  },
  "language_info": {
   "codemirror_mode": {
    "name": "ipython",
    "version": 3
   },
   "file_extension": ".py",
   "mimetype": "text/x-python",
   "name": "python",
   "nbconvert_exporter": "python",
   "pygments_lexer": "ipython3",
   "version": "3.9.6"
  }
 },
 "nbformat": 4,
 "nbformat_minor": 2
}
