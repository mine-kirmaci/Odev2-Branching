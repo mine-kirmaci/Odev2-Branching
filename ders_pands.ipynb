{
 "cells": [
  {
   "cell_type": "code",
   "execution_count": 1,
   "metadata": {},
   "outputs": [],
   "source": [
    "import pandas as pd\n",
    "import numpy as np"
   ]
  },
  {
   "cell_type": "code",
   "execution_count": 2,
   "metadata": {},
   "outputs": [
    {
     "name": "stdout",
     "output_type": "stream",
     "text": [
      "Series([], dtype: object)\n"
     ]
    }
   ],
   "source": [
    "pandas_series=pd.Series()\n",
    "print(pandas_series)"
   ]
  },
  {
   "cell_type": "code",
   "execution_count": 8,
   "metadata": {},
   "outputs": [
    {
     "name": "stdout",
     "output_type": "stream",
     "text": [
      "0    10\n",
      "1    20\n",
      "2    30\n",
      "3    40\n",
      "4    50\n",
      "dtype: int64\n",
      "0    a\n",
      "1    b\n",
      "2    c\n",
      "3    d\n",
      "dtype: object\n",
      "a    10\n",
      "b    20\n",
      "c    30\n",
      "d    40\n",
      "e    50\n",
      "dtype: int64\n",
      "(5,)\n"
     ]
    }
   ],
   "source": [
    "numbers=[10,20,30,40,50]\n",
    "pandas_series=pd.Series(numbers)\n",
    "letters=['a','b','c','d']\n",
    "print(pandas_series)\n",
    "print(pd.Series(letters))\n",
    "print(pd.Series(numbers,['a','b','c','d','e']))\n",
    "\n",
    "result=pandas_series.ndim #1 boyutlu \n",
    "result=pandas_series.dtype #data type\n",
    "result=pandas_series.shape #eleman\n",
    "print(result)\n",
    "\n",
    "\n"
   ]
  },
  {
   "cell_type": "code",
   "execution_count": 4,
   "metadata": {},
   "outputs": [
    {
     "name": "stdout",
     "output_type": "stream",
     "text": [
      "Grabdland     NaN\n",
      "astra        40.0\n",
      "corsa        60.0\n",
      "insigna      20.0\n",
      "mokka         NaN\n",
      "dtype: float64\n"
     ]
    }
   ],
   "source": [
    "opel2018=pd.Series([20,30,40,10],[\"astra\",\"corsa\",\"mokka\",\"insigna\"])\n",
    "opel2019=pd.Series([20,30,40,10],[\"astra\",\"corsa\",\"Grabdland\",\"insigna\"])\n",
    "\n",
    "total=opel2018+opel2019\n",
    "print(total)"
   ]
  },
  {
   "cell_type": "markdown",
   "metadata": {},
   "source": [
    "serilerin devamı, toplamları dataframe dir"
   ]
  },
  {
   "cell_type": "code",
   "execution_count": 5,
   "metadata": {},
   "outputs": [
    {
     "name": "stdout",
     "output_type": "stream",
     "text": [
      "   apples  oranges\n",
      "0       0        3\n",
      "1       3        2\n",
      "2       7        0\n",
      "3       2        1\n"
     ]
    }
   ],
   "source": [
    "s2=pd.Series([3,2,0,1])\n",
    "s1=pd.Series([0,3,7,2])\n",
    "\n",
    "data=dict(apples=s1,oranges=s2)\n",
    "df=pd.DataFrame(data)\n",
    "print(df)"
   ]
  }
 ],
 "metadata": {
  "kernelspec": {
   "display_name": "Python 3",
   "language": "python",
   "name": "python3"
  },
  "language_info": {
   "codemirror_mode": {
    "name": "ipython",
    "version": 3
   },
   "file_extension": ".py",
   "mimetype": "text/x-python",
   "name": "python",
   "nbconvert_exporter": "python",
   "pygments_lexer": "ipython3",
   "version": "3.9.6"
  }
 },
 "nbformat": 4,
 "nbformat_minor": 2
}
